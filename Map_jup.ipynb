{
 "cells": [
  {
   "cell_type": "markdown",
   "metadata": {},
   "source": [
    "#Streamlit app for final"
   ]
  },
  {
   "cell_type": "code",
   "execution_count": 1,
   "metadata": {},
   "outputs": [
    {
     "name": "stdout",
     "output_type": "stream",
     "text": [
      "Requirement already satisfied: geopandas in c:\\users\\jakeh\\anaconda3\\envs\\venv\\lib\\site-packages (0.14.3)\n",
      "Requirement already satisfied: streamlit_folium in c:\\users\\jakeh\\anaconda3\\envs\\venv\\lib\\site-packages (0.20.0)\n",
      "Requirement already satisfied: plotly in c:\\users\\jakeh\\anaconda3\\envs\\venv\\lib\\site-packages (5.21.0)\n",
      "Requirement already satisfied: nbformat in c:\\users\\jakeh\\anaconda3\\envs\\venv\\lib\\site-packages (5.10.4)\n",
      "Requirement already satisfied: fiona>=1.8.21 in c:\\users\\jakeh\\anaconda3\\envs\\venv\\lib\\site-packages (from geopandas) (1.9.6)\n",
      "Requirement already satisfied: packaging in c:\\users\\jakeh\\anaconda3\\envs\\venv\\lib\\site-packages (from geopandas) (23.2)\n",
      "Requirement already satisfied: pandas>=1.4.0 in c:\\users\\jakeh\\anaconda3\\envs\\venv\\lib\\site-packages (from geopandas) (2.2.1)\n",
      "Requirement already satisfied: pyproj>=3.3.0 in c:\\users\\jakeh\\anaconda3\\envs\\venv\\lib\\site-packages (from geopandas) (3.6.1)\n",
      "Requirement already satisfied: shapely>=1.8.0 in c:\\users\\jakeh\\anaconda3\\envs\\venv\\lib\\site-packages (from geopandas) (2.0.4)\n",
      "Requirement already satisfied: streamlit>=1.13.0 in c:\\users\\jakeh\\anaconda3\\envs\\venv\\lib\\site-packages (from streamlit_folium) (1.32.2)\n",
      "Requirement already satisfied: folium!=0.15.0,>=0.13 in c:\\users\\jakeh\\anaconda3\\envs\\venv\\lib\\site-packages (from streamlit_folium) (0.16.0)\n",
      "Requirement already satisfied: jinja2 in c:\\users\\jakeh\\anaconda3\\envs\\venv\\lib\\site-packages (from streamlit_folium) (3.1.3)\n",
      "Requirement already satisfied: branca in c:\\users\\jakeh\\anaconda3\\envs\\venv\\lib\\site-packages (from streamlit_folium) (0.7.2)\n",
      "Requirement already satisfied: tenacity>=6.2.0 in c:\\users\\jakeh\\anaconda3\\envs\\venv\\lib\\site-packages (from plotly) (8.2.3)\n",
      "Requirement already satisfied: fastjsonschema>=2.15 in c:\\users\\jakeh\\anaconda3\\envs\\venv\\lib\\site-packages (from nbformat) (2.19.1)\n",
      "Requirement already satisfied: jsonschema>=2.6 in c:\\users\\jakeh\\anaconda3\\envs\\venv\\lib\\site-packages (from nbformat) (4.21.1)\n",
      "Requirement already satisfied: jupyter-core!=5.0.*,>=4.12 in c:\\users\\jakeh\\anaconda3\\envs\\venv\\lib\\site-packages (from nbformat) (5.7.2)\n",
      "Requirement already satisfied: traitlets>=5.1 in c:\\users\\jakeh\\anaconda3\\envs\\venv\\lib\\site-packages (from nbformat) (5.14.2)\n",
      "Requirement already satisfied: attrs>=19.2.0 in c:\\users\\jakeh\\anaconda3\\envs\\venv\\lib\\site-packages (from fiona>=1.8.21->geopandas) (23.2.0)\n",
      "Requirement already satisfied: certifi in c:\\users\\jakeh\\anaconda3\\envs\\venv\\lib\\site-packages (from fiona>=1.8.21->geopandas) (2024.2.2)\n",
      "Requirement already satisfied: click~=8.0 in c:\\users\\jakeh\\anaconda3\\envs\\venv\\lib\\site-packages (from fiona>=1.8.21->geopandas) (8.1.7)\n",
      "Requirement already satisfied: click-plugins>=1.0 in c:\\users\\jakeh\\anaconda3\\envs\\venv\\lib\\site-packages (from fiona>=1.8.21->geopandas) (1.1.1)\n",
      "Requirement already satisfied: cligj>=0.5 in c:\\users\\jakeh\\anaconda3\\envs\\venv\\lib\\site-packages (from fiona>=1.8.21->geopandas) (0.7.2)\n",
      "Requirement already satisfied: six in c:\\users\\jakeh\\anaconda3\\envs\\venv\\lib\\site-packages (from fiona>=1.8.21->geopandas) (1.16.0)\n",
      "Requirement already satisfied: numpy in c:\\users\\jakeh\\anaconda3\\envs\\venv\\lib\\site-packages (from folium!=0.15.0,>=0.13->streamlit_folium) (1.26.4)\n",
      "Requirement already satisfied: requests in c:\\users\\jakeh\\anaconda3\\envs\\venv\\lib\\site-packages (from folium!=0.15.0,>=0.13->streamlit_folium) (2.31.0)\n",
      "Requirement already satisfied: xyzservices in c:\\users\\jakeh\\anaconda3\\envs\\venv\\lib\\site-packages (from folium!=0.15.0,>=0.13->streamlit_folium) (2024.4.0)\n",
      "Requirement already satisfied: MarkupSafe>=2.0 in c:\\users\\jakeh\\anaconda3\\envs\\venv\\lib\\site-packages (from jinja2->streamlit_folium) (2.1.5)\n",
      "Requirement already satisfied: jsonschema-specifications>=2023.03.6 in c:\\users\\jakeh\\anaconda3\\envs\\venv\\lib\\site-packages (from jsonschema>=2.6->nbformat) (2023.12.1)\n",
      "Requirement already satisfied: referencing>=0.28.4 in c:\\users\\jakeh\\anaconda3\\envs\\venv\\lib\\site-packages (from jsonschema>=2.6->nbformat) (0.34.0)\n",
      "Requirement already satisfied: rpds-py>=0.7.1 in c:\\users\\jakeh\\anaconda3\\envs\\venv\\lib\\site-packages (from jsonschema>=2.6->nbformat) (0.18.0)\n",
      "Requirement already satisfied: platformdirs>=2.5 in c:\\users\\jakeh\\anaconda3\\envs\\venv\\lib\\site-packages (from jupyter-core!=5.0.*,>=4.12->nbformat) (4.2.0)\n",
      "Requirement already satisfied: pywin32>=300 in c:\\users\\jakeh\\anaconda3\\envs\\venv\\lib\\site-packages (from jupyter-core!=5.0.*,>=4.12->nbformat) (306)\n",
      "Requirement already satisfied: python-dateutil>=2.8.2 in c:\\users\\jakeh\\anaconda3\\envs\\venv\\lib\\site-packages (from pandas>=1.4.0->geopandas) (2.9.0)\n",
      "Requirement already satisfied: pytz>=2020.1 in c:\\users\\jakeh\\anaconda3\\envs\\venv\\lib\\site-packages (from pandas>=1.4.0->geopandas) (2024.1)\n",
      "Requirement already satisfied: tzdata>=2022.7 in c:\\users\\jakeh\\anaconda3\\envs\\venv\\lib\\site-packages (from pandas>=1.4.0->geopandas) (2024.1)\n",
      "Requirement already satisfied: altair<6,>=4.0 in c:\\users\\jakeh\\anaconda3\\envs\\venv\\lib\\site-packages (from streamlit>=1.13.0->streamlit_folium) (5.2.0)\n",
      "Requirement already satisfied: blinker<2,>=1.0.0 in c:\\users\\jakeh\\anaconda3\\envs\\venv\\lib\\site-packages (from streamlit>=1.13.0->streamlit_folium) (1.7.0)\n",
      "Requirement already satisfied: cachetools<6,>=4.0 in c:\\users\\jakeh\\anaconda3\\envs\\venv\\lib\\site-packages (from streamlit>=1.13.0->streamlit_folium) (5.3.3)\n",
      "Requirement already satisfied: pillow<11,>=7.1.0 in c:\\users\\jakeh\\anaconda3\\envs\\venv\\lib\\site-packages (from streamlit>=1.13.0->streamlit_folium) (10.2.0)\n",
      "Requirement already satisfied: protobuf<5,>=3.20 in c:\\users\\jakeh\\anaconda3\\envs\\venv\\lib\\site-packages (from streamlit>=1.13.0->streamlit_folium) (4.25.3)\n",
      "Requirement already satisfied: pyarrow>=7.0 in c:\\users\\jakeh\\anaconda3\\envs\\venv\\lib\\site-packages (from streamlit>=1.13.0->streamlit_folium) (15.0.2)\n",
      "Requirement already satisfied: rich<14,>=10.14.0 in c:\\users\\jakeh\\anaconda3\\envs\\venv\\lib\\site-packages (from streamlit>=1.13.0->streamlit_folium) (13.7.1)\n",
      "Requirement already satisfied: toml<2,>=0.10.1 in c:\\users\\jakeh\\anaconda3\\envs\\venv\\lib\\site-packages (from streamlit>=1.13.0->streamlit_folium) (0.10.2)\n",
      "Requirement already satisfied: typing-extensions<5,>=4.3.0 in c:\\users\\jakeh\\anaconda3\\envs\\venv\\lib\\site-packages (from streamlit>=1.13.0->streamlit_folium) (4.10.0)\n",
      "Requirement already satisfied: gitpython!=3.1.19,<4,>=3.0.7 in c:\\users\\jakeh\\anaconda3\\envs\\venv\\lib\\site-packages (from streamlit>=1.13.0->streamlit_folium) (3.1.42)\n",
      "Requirement already satisfied: pydeck<1,>=0.8.0b4 in c:\\users\\jakeh\\anaconda3\\envs\\venv\\lib\\site-packages (from streamlit>=1.13.0->streamlit_folium) (0.8.1b0)\n",
      "Requirement already satisfied: tornado<7,>=6.0.3 in c:\\users\\jakeh\\anaconda3\\envs\\venv\\lib\\site-packages (from streamlit>=1.13.0->streamlit_folium) (6.4)\n",
      "Requirement already satisfied: watchdog>=2.1.5 in c:\\users\\jakeh\\anaconda3\\envs\\venv\\lib\\site-packages (from streamlit>=1.13.0->streamlit_folium) (4.0.0)\n",
      "Requirement already satisfied: toolz in c:\\users\\jakeh\\anaconda3\\envs\\venv\\lib\\site-packages (from altair<6,>=4.0->streamlit>=1.13.0->streamlit_folium) (0.12.1)\n",
      "Requirement already satisfied: colorama in c:\\users\\jakeh\\anaconda3\\envs\\venv\\lib\\site-packages (from click~=8.0->fiona>=1.8.21->geopandas) (0.4.6)\n",
      "Requirement already satisfied: gitdb<5,>=4.0.1 in c:\\users\\jakeh\\anaconda3\\envs\\venv\\lib\\site-packages (from gitpython!=3.1.19,<4,>=3.0.7->streamlit>=1.13.0->streamlit_folium) (4.0.11)\n",
      "Requirement already satisfied: charset-normalizer<4,>=2 in c:\\users\\jakeh\\anaconda3\\envs\\venv\\lib\\site-packages (from requests->folium!=0.15.0,>=0.13->streamlit_folium) (3.3.2)\n",
      "Requirement already satisfied: idna<4,>=2.5 in c:\\users\\jakeh\\anaconda3\\envs\\venv\\lib\\site-packages (from requests->folium!=0.15.0,>=0.13->streamlit_folium) (3.6)\n",
      "Requirement already satisfied: urllib3<3,>=1.21.1 in c:\\users\\jakeh\\anaconda3\\envs\\venv\\lib\\site-packages (from requests->folium!=0.15.0,>=0.13->streamlit_folium) (2.2.1)\n",
      "Requirement already satisfied: markdown-it-py>=2.2.0 in c:\\users\\jakeh\\anaconda3\\envs\\venv\\lib\\site-packages (from rich<14,>=10.14.0->streamlit>=1.13.0->streamlit_folium) (3.0.0)\n",
      "Requirement already satisfied: pygments<3.0.0,>=2.13.0 in c:\\users\\jakeh\\anaconda3\\envs\\venv\\lib\\site-packages (from rich<14,>=10.14.0->streamlit>=1.13.0->streamlit_folium) (2.17.2)\n",
      "Requirement already satisfied: smmap<6,>=3.0.1 in c:\\users\\jakeh\\anaconda3\\envs\\venv\\lib\\site-packages (from gitdb<5,>=4.0.1->gitpython!=3.1.19,<4,>=3.0.7->streamlit>=1.13.0->streamlit_folium) (5.0.1)\n",
      "Requirement already satisfied: mdurl~=0.1 in c:\\users\\jakeh\\anaconda3\\envs\\venv\\lib\\site-packages (from markdown-it-py>=2.2.0->rich<14,>=10.14.0->streamlit>=1.13.0->streamlit_folium) (0.1.2)\n",
      "Note: you may need to restart the kernel to use updated packages.\n"
     ]
    }
   ],
   "source": [
    "pip install geopandas streamlit_folium plotly nbformat"
   ]
  },
  {
   "cell_type": "code",
   "execution_count": 2,
   "metadata": {},
   "outputs": [
    {
     "name": "stdout",
     "output_type": "stream",
     "text": [
      "altair==5.2.0\n",
      "asttokens @ file:///home/conda/feedstock_root/build_artifacts/asttokens_1698341106958/work\n",
      "attrs==23.2.0\n",
      "blinker==1.7.0\n",
      "branca==0.7.2\n",
      "cachetools==5.3.3\n",
      "certifi==2024.2.2\n",
      "charset-normalizer==3.3.2\n",
      "click==8.1.7\n",
      "click-plugins==1.1.1\n",
      "cligj==0.7.2\n",
      "colorama @ file:///home/conda/feedstock_root/build_artifacts/colorama_1666700638685/work\n",
      "comm @ file:///home/conda/feedstock_root/build_artifacts/comm_1710320294760/work\n",
      "contourpy==1.2.1\n",
      "cycler==0.12.1\n",
      "debugpy @ file:///D:/bld/debugpy_1707444547228/work\n",
      "decorator @ file:///home/conda/feedstock_root/build_artifacts/decorator_1641555617451/work\n",
      "exceptiongroup @ file:///home/conda/feedstock_root/build_artifacts/exceptiongroup_1704921103267/work\n",
      "executing @ file:///home/conda/feedstock_root/build_artifacts/executing_1698579936712/work\n",
      "fastjsonschema==2.19.1\n",
      "fiona==1.9.6\n",
      "folium==0.16.0\n",
      "fonttools==4.51.0\n",
      "geopandas==0.14.3\n",
      "gitdb==4.0.11\n",
      "GitPython==3.1.42\n",
      "idna==3.6\n",
      "importlib_metadata @ file:///home/conda/feedstock_root/build_artifacts/importlib-metadata_1710971335535/work\n",
      "ipykernel @ file:///D:/bld/ipykernel_1708996677248/work\n",
      "ipython @ file:///D:/bld/ipython_1709559926914/work\n",
      "jedi @ file:///home/conda/feedstock_root/build_artifacts/jedi_1696326070614/work\n",
      "Jinja2==3.1.3\n",
      "jsonschema==4.21.1\n",
      "jsonschema-specifications==2023.12.1\n",
      "jupyter_client @ file:///home/conda/feedstock_root/build_artifacts/jupyter_client_1710255804825/work\n",
      "jupyter_core @ file:///D:/bld/jupyter_core_1710257272359/work\n",
      "kiwisolver==1.4.5\n",
      "markdown-it-py==3.0.0\n",
      "MarkupSafe==2.1.5\n",
      "matplotlib==3.8.4\n",
      "matplotlib-inline @ file:///home/conda/feedstock_root/build_artifacts/matplotlib-inline_1660814786464/work\n",
      "mdurl==0.1.2\n",
      "nbformat==5.10.4\n",
      "nest_asyncio @ file:///home/conda/feedstock_root/build_artifacts/nest-asyncio_1705850609492/work\n",
      "numpy==1.26.4\n",
      "packaging==23.2\n",
      "pandas==2.2.1\n",
      "parso @ file:///home/conda/feedstock_root/build_artifacts/parso_1638334955874/work\n",
      "pickleshare @ file:///home/conda/feedstock_root/build_artifacts/pickleshare_1602536217715/work\n",
      "pillow==10.2.0\n",
      "platformdirs @ file:///home/conda/feedstock_root/build_artifacts/platformdirs_1706713388748/work\n",
      "plotly==5.21.0\n",
      "prompt-toolkit @ file:///home/conda/feedstock_root/build_artifacts/prompt-toolkit_1702399386289/work\n",
      "protobuf==4.25.3\n",
      "psutil @ file:///D:/bld/psutil_1705722518504/work\n",
      "pure-eval @ file:///home/conda/feedstock_root/build_artifacts/pure_eval_1642875951954/work\n",
      "pyarrow==15.0.2\n",
      "pydeck==0.8.1b0\n",
      "Pygments @ file:///home/conda/feedstock_root/build_artifacts/pygments_1700607939962/work\n",
      "pyparsing==3.1.2\n",
      "pyproj==3.6.1\n",
      "python-dateutil @ file:///home/conda/feedstock_root/build_artifacts/python-dateutil_1709299778482/work\n",
      "pytz==2024.1\n",
      "pywin32==306\n",
      "pyzmq @ file:///D:/bld/pyzmq_1701783318166/work\n",
      "referencing==0.34.0\n",
      "requests==2.31.0\n",
      "rich==13.7.1\n",
      "rpds-py==0.18.0\n",
      "seaborn==0.13.2\n",
      "shapely==2.0.4\n",
      "six @ file:///home/conda/feedstock_root/build_artifacts/six_1620240208055/work\n",
      "smmap==5.0.1\n",
      "stack-data @ file:///home/conda/feedstock_root/build_artifacts/stack_data_1669632077133/work\n",
      "streamlit==1.32.2\n",
      "streamlit_folium==0.20.0\n",
      "tenacity==8.2.3\n",
      "toml==0.10.2\n",
      "toolz==0.12.1\n",
      "tornado @ file:///D:/bld/tornado_1708363274019/work\n",
      "traitlets @ file:///home/conda/feedstock_root/build_artifacts/traitlets_1710254411456/work\n",
      "typing_extensions @ file:///home/conda/feedstock_root/build_artifacts/typing_extensions_1708904622550/work\n",
      "tzdata==2024.1\n",
      "urllib3==2.2.1\n",
      "watchdog==4.0.0\n",
      "wcwidth @ file:///home/conda/feedstock_root/build_artifacts/wcwidth_1704731205417/work\n",
      "xyzservices==2024.4.0\n",
      "zipp @ file:///home/conda/feedstock_root/build_artifacts/zipp_1695255097490/work\n",
      "Note: you may need to restart the kernel to use updated packages.\n"
     ]
    }
   ],
   "source": [
    "pip freeze"
   ]
  },
  {
   "cell_type": "code",
   "execution_count": 3,
   "metadata": {},
   "outputs": [],
   "source": [
    "import numpy as np # linear algebra\n",
    "import pandas as pd # data processing, CSV file I/O (e.g. pd.read_csv)\n",
    "import os\n",
    "import matplotlib.pyplot as plt, matplotlib\n",
    "import matplotlib.cm\n",
    "from matplotlib.patches import Polygon\n",
    "from matplotlib.collections import PatchCollection\n",
    "from matplotlib.colors import Normalize\n",
    "import plotly as py\n",
    "from plotly.offline import init_notebook_mode, iplot\n",
    "import plotly.graph_objs as go\n",
    "from plotly import tools\n",
    "import string, random\n",
    "import seaborn as sns\n",
    "import streamlit as st\n",
    "\n",
    "pd.set_option('display.max_columns', None)"
   ]
  },
  {
   "cell_type": "code",
   "execution_count": 4,
   "metadata": {},
   "outputs": [],
   "source": [
    "def load_data(csv):\n",
    "    df = pd.read_csv(csv)\n",
    "    return df"
   ]
  },
  {
   "cell_type": "code",
   "execution_count": 5,
   "metadata": {},
   "outputs": [
    {
     "data": {
      "text/plain": [
       "incident_id                      int64\n",
       "date                            object\n",
       "state                           object\n",
       "city_or_county                  object\n",
       "address                         object\n",
       "n_killed                         int64\n",
       "n_injured                        int64\n",
       "incident_url                    object\n",
       "source_url                      object\n",
       "incident_url_fields_missing       bool\n",
       "congressional_district         float64\n",
       "gun_stolen                      object\n",
       "gun_type                        object\n",
       "incident_characteristics        object\n",
       "latitude                       float64\n",
       "location_description            object\n",
       "longitude                      float64\n",
       "n_guns_involved                float64\n",
       "notes                           object\n",
       "participant_age                 object\n",
       "participant_age_group           object\n",
       "participant_gender              object\n",
       "participant_name                object\n",
       "participant_relationship        object\n",
       "participant_status              object\n",
       "participant_type                object\n",
       "sources                         object\n",
       "state_house_district           float64\n",
       "state_senate_district          float64\n",
       "dtype: object"
      ]
     },
     "execution_count": 5,
     "metadata": {},
     "output_type": "execute_result"
    }
   ],
   "source": [
    "df = load_data('Data/gun-violence-data_01-2013_03-2018.csv')\n",
    "df.dtypes"
   ]
  },
  {
   "cell_type": "code",
   "execution_count": 6,
   "metadata": {},
   "outputs": [],
   "source": [
    "df['date']=pd.to_datetime(df['date'])\n",
    "df['year']=df['date'].dt.year\n",
    "df['month'] = df['date'].dt.month"
   ]
  },
  {
   "cell_type": "code",
   "execution_count": 7,
   "metadata": {},
   "outputs": [
    {
     "data": {
      "text/html": [
       "<div>\n",
       "<style scoped>\n",
       "    .dataframe tbody tr th:only-of-type {\n",
       "        vertical-align: middle;\n",
       "    }\n",
       "\n",
       "    .dataframe tbody tr th {\n",
       "        vertical-align: top;\n",
       "    }\n",
       "\n",
       "    .dataframe thead th {\n",
       "        text-align: right;\n",
       "    }\n",
       "</style>\n",
       "<table border=\"1\" class=\"dataframe\">\n",
       "  <thead>\n",
       "    <tr style=\"text-align: right;\">\n",
       "      <th></th>\n",
       "      <th>incident_id</th>\n",
       "      <th>date</th>\n",
       "      <th>state</th>\n",
       "      <th>city_or_county</th>\n",
       "      <th>address</th>\n",
       "      <th>n_killed</th>\n",
       "      <th>n_injured</th>\n",
       "      <th>incident_url</th>\n",
       "      <th>source_url</th>\n",
       "      <th>incident_url_fields_missing</th>\n",
       "      <th>congressional_district</th>\n",
       "      <th>gun_stolen</th>\n",
       "      <th>gun_type</th>\n",
       "      <th>incident_characteristics</th>\n",
       "      <th>latitude</th>\n",
       "      <th>location_description</th>\n",
       "      <th>longitude</th>\n",
       "      <th>n_guns_involved</th>\n",
       "      <th>notes</th>\n",
       "      <th>participant_age</th>\n",
       "      <th>participant_age_group</th>\n",
       "      <th>participant_gender</th>\n",
       "      <th>participant_name</th>\n",
       "      <th>participant_relationship</th>\n",
       "      <th>participant_status</th>\n",
       "      <th>participant_type</th>\n",
       "      <th>sources</th>\n",
       "      <th>state_house_district</th>\n",
       "      <th>state_senate_district</th>\n",
       "      <th>year</th>\n",
       "      <th>month</th>\n",
       "    </tr>\n",
       "  </thead>\n",
       "  <tbody>\n",
       "    <tr>\n",
       "      <th>0</th>\n",
       "      <td>461105</td>\n",
       "      <td>2013-01-01</td>\n",
       "      <td>Pennsylvania</td>\n",
       "      <td>Mckeesport</td>\n",
       "      <td>1506 Versailles Avenue and Coursin Street</td>\n",
       "      <td>0</td>\n",
       "      <td>4</td>\n",
       "      <td>http://www.gunviolencearchive.org/incident/461105</td>\n",
       "      <td>http://www.post-gazette.com/local/south/2013/0...</td>\n",
       "      <td>False</td>\n",
       "      <td>14.0</td>\n",
       "      <td>NaN</td>\n",
       "      <td>NaN</td>\n",
       "      <td>Shot - Wounded/Injured||Mass Shooting (4+ vict...</td>\n",
       "      <td>40.3467</td>\n",
       "      <td>NaN</td>\n",
       "      <td>-79.8559</td>\n",
       "      <td>NaN</td>\n",
       "      <td>Julian Sims under investigation: Four Shot and...</td>\n",
       "      <td>0::20</td>\n",
       "      <td>0::Adult 18+||1::Adult 18+||2::Adult 18+||3::A...</td>\n",
       "      <td>0::Male||1::Male||3::Male||4::Female</td>\n",
       "      <td>0::Julian Sims</td>\n",
       "      <td>NaN</td>\n",
       "      <td>0::Arrested||1::Injured||2::Injured||3::Injure...</td>\n",
       "      <td>0::Victim||1::Victim||2::Victim||3::Victim||4:...</td>\n",
       "      <td>http://pittsburgh.cbslocal.com/2013/01/01/4-pe...</td>\n",
       "      <td>NaN</td>\n",
       "      <td>NaN</td>\n",
       "      <td>2013</td>\n",
       "      <td>1</td>\n",
       "    </tr>\n",
       "    <tr>\n",
       "      <th>1</th>\n",
       "      <td>460726</td>\n",
       "      <td>2013-01-01</td>\n",
       "      <td>California</td>\n",
       "      <td>Hawthorne</td>\n",
       "      <td>13500 block of Cerise Avenue</td>\n",
       "      <td>1</td>\n",
       "      <td>3</td>\n",
       "      <td>http://www.gunviolencearchive.org/incident/460726</td>\n",
       "      <td>http://www.dailybulletin.com/article/zz/201301...</td>\n",
       "      <td>False</td>\n",
       "      <td>43.0</td>\n",
       "      <td>NaN</td>\n",
       "      <td>NaN</td>\n",
       "      <td>Shot - Wounded/Injured||Shot - Dead (murder, a...</td>\n",
       "      <td>33.9090</td>\n",
       "      <td>NaN</td>\n",
       "      <td>-118.3330</td>\n",
       "      <td>NaN</td>\n",
       "      <td>Four Shot; One Killed; Unidentified shooter in...</td>\n",
       "      <td>0::20</td>\n",
       "      <td>0::Adult 18+||1::Adult 18+||2::Adult 18+||3::A...</td>\n",
       "      <td>0::Male</td>\n",
       "      <td>0::Bernard Gillis</td>\n",
       "      <td>NaN</td>\n",
       "      <td>0::Killed||1::Injured||2::Injured||3::Injured</td>\n",
       "      <td>0::Victim||1::Victim||2::Victim||3::Victim||4:...</td>\n",
       "      <td>http://losangeles.cbslocal.com/2013/01/01/man-...</td>\n",
       "      <td>62.0</td>\n",
       "      <td>35.0</td>\n",
       "      <td>2013</td>\n",
       "      <td>1</td>\n",
       "    </tr>\n",
       "  </tbody>\n",
       "</table>\n",
       "</div>"
      ],
      "text/plain": [
       "   incident_id       date         state city_or_county  \\\n",
       "0       461105 2013-01-01  Pennsylvania     Mckeesport   \n",
       "1       460726 2013-01-01    California      Hawthorne   \n",
       "\n",
       "                                     address  n_killed  n_injured  \\\n",
       "0  1506 Versailles Avenue and Coursin Street         0          4   \n",
       "1               13500 block of Cerise Avenue         1          3   \n",
       "\n",
       "                                        incident_url  \\\n",
       "0  http://www.gunviolencearchive.org/incident/461105   \n",
       "1  http://www.gunviolencearchive.org/incident/460726   \n",
       "\n",
       "                                          source_url  \\\n",
       "0  http://www.post-gazette.com/local/south/2013/0...   \n",
       "1  http://www.dailybulletin.com/article/zz/201301...   \n",
       "\n",
       "   incident_url_fields_missing  congressional_district gun_stolen gun_type  \\\n",
       "0                        False                    14.0        NaN      NaN   \n",
       "1                        False                    43.0        NaN      NaN   \n",
       "\n",
       "                            incident_characteristics  latitude  \\\n",
       "0  Shot - Wounded/Injured||Mass Shooting (4+ vict...   40.3467   \n",
       "1  Shot - Wounded/Injured||Shot - Dead (murder, a...   33.9090   \n",
       "\n",
       "  location_description  longitude  n_guns_involved  \\\n",
       "0                  NaN   -79.8559              NaN   \n",
       "1                  NaN  -118.3330              NaN   \n",
       "\n",
       "                                               notes participant_age  \\\n",
       "0  Julian Sims under investigation: Four Shot and...           0::20   \n",
       "1  Four Shot; One Killed; Unidentified shooter in...           0::20   \n",
       "\n",
       "                               participant_age_group  \\\n",
       "0  0::Adult 18+||1::Adult 18+||2::Adult 18+||3::A...   \n",
       "1  0::Adult 18+||1::Adult 18+||2::Adult 18+||3::A...   \n",
       "\n",
       "                     participant_gender   participant_name  \\\n",
       "0  0::Male||1::Male||3::Male||4::Female     0::Julian Sims   \n",
       "1                               0::Male  0::Bernard Gillis   \n",
       "\n",
       "  participant_relationship                                 participant_status  \\\n",
       "0                      NaN  0::Arrested||1::Injured||2::Injured||3::Injure...   \n",
       "1                      NaN      0::Killed||1::Injured||2::Injured||3::Injured   \n",
       "\n",
       "                                    participant_type  \\\n",
       "0  0::Victim||1::Victim||2::Victim||3::Victim||4:...   \n",
       "1  0::Victim||1::Victim||2::Victim||3::Victim||4:...   \n",
       "\n",
       "                                             sources  state_house_district  \\\n",
       "0  http://pittsburgh.cbslocal.com/2013/01/01/4-pe...                   NaN   \n",
       "1  http://losangeles.cbslocal.com/2013/01/01/man-...                  62.0   \n",
       "\n",
       "   state_senate_district  year  month  \n",
       "0                    NaN  2013      1  \n",
       "1                   35.0  2013      1  "
      ]
     },
     "execution_count": 7,
     "metadata": {},
     "output_type": "execute_result"
    }
   ],
   "source": [
    "df.head(2)"
   ]
  },
  {
   "cell_type": "markdown",
   "metadata": {},
   "source": [
    "GENDER"
   ]
  },
  {
   "cell_type": "code",
   "execution_count": 8,
   "metadata": {},
   "outputs": [
    {
     "name": "stdout",
     "output_type": "stream",
     "text": [
      "Total Male Count: 304103\n",
      "Total Female Count: 42376\n"
     ]
    }
   ],
   "source": [
    "def count_genders(gender_str):\n",
    "    genders = gender_str.split('||')\n",
    "    male_count = 0\n",
    "    female_count = 0\n",
    "    for g in genders:\n",
    "        if '::Male' in g:\n",
    "            male_count += 1\n",
    "        elif '::Female' in g:\n",
    "            female_count += 1\n",
    "    return male_count, female_count\n",
    "\n",
    "# Apply the function to each row and sum the counts\n",
    "gender_counts = df['participant_gender'].fillna('').apply(count_genders)\n",
    "total_male_count = sum(count[0] for count in gender_counts)\n",
    "total_female_count = sum(count[1] for count in gender_counts)\n",
    "\n",
    "print(\"Total Male Count:\", total_male_count)\n",
    "print(\"Total Female Count:\", total_female_count)"
   ]
  },
  {
   "cell_type": "code",
   "execution_count": 9,
   "metadata": {},
   "outputs": [],
   "source": [
    "def separate(df):\n",
    "    df=df.split(\"||\")\n",
    "    df=[(x.split(\"::\")) for x in df]\n",
    "    y = []\n",
    "    for  i in range (0, len(df)):\n",
    "        y.append(df[i][-1])\n",
    "    return(y) "
   ]
  },
  {
   "cell_type": "code",
   "execution_count": 10,
   "metadata": {},
   "outputs": [],
   "source": [
    "df['participant_gender'] = df['participant_gender'].fillna(\"0::Zero\")\n",
    "df['gender'] = df['participant_gender'].apply(lambda x: separate(x))\n",
    "df['Males'] = df['gender'].apply(lambda x: x.count('Male'))\n",
    "df['Females'] = df['gender'].apply(lambda x: x.count('Female'))"
   ]
  },
  {
   "cell_type": "code",
   "execution_count": 11,
   "metadata": {},
   "outputs": [
    {
     "data": {
      "text/html": [
       "<div>\n",
       "<style scoped>\n",
       "    .dataframe tbody tr th:only-of-type {\n",
       "        vertical-align: middle;\n",
       "    }\n",
       "\n",
       "    .dataframe tbody tr th {\n",
       "        vertical-align: top;\n",
       "    }\n",
       "\n",
       "    .dataframe thead th {\n",
       "        text-align: right;\n",
       "    }\n",
       "</style>\n",
       "<table border=\"1\" class=\"dataframe\">\n",
       "  <thead>\n",
       "    <tr style=\"text-align: right;\">\n",
       "      <th></th>\n",
       "      <th>Males</th>\n",
       "      <th>Females</th>\n",
       "    </tr>\n",
       "    <tr>\n",
       "      <th>year</th>\n",
       "      <th></th>\n",
       "      <th></th>\n",
       "    </tr>\n",
       "  </thead>\n",
       "  <tbody>\n",
       "    <tr>\n",
       "      <th>2013</th>\n",
       "      <td>981</td>\n",
       "      <td>283</td>\n",
       "    </tr>\n",
       "    <tr>\n",
       "      <th>2014</th>\n",
       "      <td>66809</td>\n",
       "      <td>9706</td>\n",
       "    </tr>\n",
       "    <tr>\n",
       "      <th>2015</th>\n",
       "      <td>68781</td>\n",
       "      <td>9821</td>\n",
       "    </tr>\n",
       "    <tr>\n",
       "      <th>2016</th>\n",
       "      <td>75707</td>\n",
       "      <td>10547</td>\n",
       "    </tr>\n",
       "    <tr>\n",
       "      <th>2017</th>\n",
       "      <td>75484</td>\n",
       "      <td>9781</td>\n",
       "    </tr>\n",
       "    <tr>\n",
       "      <th>2018</th>\n",
       "      <td>16340</td>\n",
       "      <td>2238</td>\n",
       "    </tr>\n",
       "  </tbody>\n",
       "</table>\n",
       "</div>"
      ],
      "text/plain": [
       "      Males  Females\n",
       "year                \n",
       "2013    981      283\n",
       "2014  66809     9706\n",
       "2015  68781     9821\n",
       "2016  75707    10547\n",
       "2017  75484     9781\n",
       "2018  16340     2238"
      ]
     },
     "execution_count": 11,
     "metadata": {},
     "output_type": "execute_result"
    }
   ],
   "source": [
    "gender_year_count = df[['year', 'Males', 'Females']].groupby('year').sum()\n",
    "gender_year_count"
   ]
  },
  {
   "cell_type": "code",
   "execution_count": 12,
   "metadata": {},
   "outputs": [],
   "source": [
    "# Group data by state\n",
    "state_groups = df.groupby('state')\n",
    "\n",
    "# Calculate total count, killed count, and injured count\n",
    "statesdf = state_groups.agg(\n",
    "    total=('state', 'count'),  # Count all rows in each state group\n",
    "    killed=('n_killed', 'sum'),  # Sum the 'killed' column values in each state group\n",
    "    injured=('n_injured', 'sum'),  # Sum the 'injured' column values in each state group\n",
    "    males=('Males', 'sum'),\n",
    "    females=('Females', 'sum'),\n",
    ")\n",
    "\n",
    "# Reset index to include state as a column\n",
    "statesdf = statesdf.reset_index()"
   ]
  },
  {
   "cell_type": "code",
   "execution_count": 13,
   "metadata": {},
   "outputs": [],
   "source": [
    "state_to_code = {'District of Columbia' : 'dc','Mississippi': 'MS', 'Oklahoma': 'OK', 'Delaware': 'DE', 'Minnesota': 'MN', 'Illinois': 'IL', 'Arkansas': 'AR', 'New Mexico': 'NM', 'Indiana': 'IN', 'Maryland': 'MD', 'Louisiana': 'LA', 'Idaho': 'ID', 'Wyoming': 'WY', 'Tennessee': 'TN', 'Arizona': 'AZ', 'Iowa': 'IA', 'Michigan': 'MI', 'Kansas': 'KS', 'Utah': 'UT', 'Virginia': 'VA', 'Oregon': 'OR', 'Connecticut': 'CT', 'Montana': 'MT', 'California': 'CA', 'Massachusetts': 'MA', 'West Virginia': 'WV', 'South Carolina': 'SC', 'New Hampshire': 'NH', 'Wisconsin': 'WI', 'Vermont': 'VT', 'Georgia': 'GA', 'North Dakota': 'ND', 'Pennsylvania': 'PA', 'Florida': 'FL', 'Alaska': 'AK', 'Kentucky': 'KY', 'Hawaii': 'HI', 'Nebraska': 'NE', 'Missouri': 'MO', 'Ohio': 'OH', 'Alabama': 'AL', 'Rhode Island': 'RI', 'South Dakota': 'SD', 'Colorado': 'CO', 'New Jersey': 'NJ', 'Washington': 'WA', 'North Carolina': 'NC', 'New York': 'NY', 'Texas': 'TX', 'Nevada': 'NV', 'Maine': 'ME'}\n",
    "statesdf['state_code'] = statesdf['state'].apply(lambda x : state_to_code[x])"
   ]
  },
  {
   "cell_type": "code",
   "execution_count": 14,
   "metadata": {},
   "outputs": [],
   "source": [
    "# Group data by state and year\n",
    "state_year_groups = df.groupby(['state', 'year'])\n",
    "\n",
    "# Calculate total count for each state and year\n",
    "state_year_counts = state_year_groups.size().reset_index(name='year_count')\n",
    "\n",
    "# Merge state_year_counts with statesdf\n",
    "statesdf = statesdf.merge(state_year_counts, on=['state'], how='left')\n",
    "\n",
    "# Fill missing year counts with 0\n",
    "statesdf['year_count'] = statesdf['year_count'].fillna(0).astype(int)\n"
   ]
  },
  {
   "cell_type": "code",
   "execution_count": 15,
   "metadata": {},
   "outputs": [
    {
     "data": {
      "text/html": [
       "<div>\n",
       "<style scoped>\n",
       "    .dataframe tbody tr th:only-of-type {\n",
       "        vertical-align: middle;\n",
       "    }\n",
       "\n",
       "    .dataframe tbody tr th {\n",
       "        vertical-align: top;\n",
       "    }\n",
       "\n",
       "    .dataframe thead th {\n",
       "        text-align: right;\n",
       "    }\n",
       "</style>\n",
       "<table border=\"1\" class=\"dataframe\">\n",
       "  <thead>\n",
       "    <tr style=\"text-align: right;\">\n",
       "      <th></th>\n",
       "      <th>state</th>\n",
       "      <th>total</th>\n",
       "      <th>killed</th>\n",
       "      <th>injured</th>\n",
       "      <th>males</th>\n",
       "      <th>females</th>\n",
       "      <th>state_code</th>\n",
       "      <th>year</th>\n",
       "      <th>year_count</th>\n",
       "    </tr>\n",
       "  </thead>\n",
       "  <tbody>\n",
       "    <tr>\n",
       "      <th>1</th>\n",
       "      <td>Alabama</td>\n",
       "      <td>5471</td>\n",
       "      <td>1880</td>\n",
       "      <td>2998</td>\n",
       "      <td>6990</td>\n",
       "      <td>1178</td>\n",
       "      <td>AL</td>\n",
       "      <td>2014</td>\n",
       "      <td>1318</td>\n",
       "    </tr>\n",
       "    <tr>\n",
       "      <th>2</th>\n",
       "      <td>Alabama</td>\n",
       "      <td>5471</td>\n",
       "      <td>1880</td>\n",
       "      <td>2998</td>\n",
       "      <td>6990</td>\n",
       "      <td>1178</td>\n",
       "      <td>AL</td>\n",
       "      <td>2015</td>\n",
       "      <td>1034</td>\n",
       "    </tr>\n",
       "    <tr>\n",
       "      <th>3</th>\n",
       "      <td>Alabama</td>\n",
       "      <td>5471</td>\n",
       "      <td>1880</td>\n",
       "      <td>2998</td>\n",
       "      <td>6990</td>\n",
       "      <td>1178</td>\n",
       "      <td>AL</td>\n",
       "      <td>2016</td>\n",
       "      <td>1309</td>\n",
       "    </tr>\n",
       "    <tr>\n",
       "      <th>4</th>\n",
       "      <td>Alabama</td>\n",
       "      <td>5471</td>\n",
       "      <td>1880</td>\n",
       "      <td>2998</td>\n",
       "      <td>6990</td>\n",
       "      <td>1178</td>\n",
       "      <td>AL</td>\n",
       "      <td>2017</td>\n",
       "      <td>1461</td>\n",
       "    </tr>\n",
       "    <tr>\n",
       "      <th>6</th>\n",
       "      <td>Alaska</td>\n",
       "      <td>1349</td>\n",
       "      <td>267</td>\n",
       "      <td>325</td>\n",
       "      <td>1428</td>\n",
       "      <td>238</td>\n",
       "      <td>AK</td>\n",
       "      <td>2014</td>\n",
       "      <td>146</td>\n",
       "    </tr>\n",
       "    <tr>\n",
       "      <th>...</th>\n",
       "      <td>...</td>\n",
       "      <td>...</td>\n",
       "      <td>...</td>\n",
       "      <td>...</td>\n",
       "      <td>...</td>\n",
       "      <td>...</td>\n",
       "      <td>...</td>\n",
       "      <td>...</td>\n",
       "      <td>...</td>\n",
       "    </tr>\n",
       "    <tr>\n",
       "      <th>285</th>\n",
       "      <td>Wisconsin</td>\n",
       "      <td>4787</td>\n",
       "      <td>862</td>\n",
       "      <td>2117</td>\n",
       "      <td>5098</td>\n",
       "      <td>801</td>\n",
       "      <td>WI</td>\n",
       "      <td>2017</td>\n",
       "      <td>1369</td>\n",
       "    </tr>\n",
       "    <tr>\n",
       "      <th>287</th>\n",
       "      <td>Wyoming</td>\n",
       "      <td>494</td>\n",
       "      <td>73</td>\n",
       "      <td>52</td>\n",
       "      <td>255</td>\n",
       "      <td>54</td>\n",
       "      <td>WY</td>\n",
       "      <td>2014</td>\n",
       "      <td>64</td>\n",
       "    </tr>\n",
       "    <tr>\n",
       "      <th>288</th>\n",
       "      <td>Wyoming</td>\n",
       "      <td>494</td>\n",
       "      <td>73</td>\n",
       "      <td>52</td>\n",
       "      <td>255</td>\n",
       "      <td>54</td>\n",
       "      <td>WY</td>\n",
       "      <td>2015</td>\n",
       "      <td>198</td>\n",
       "    </tr>\n",
       "    <tr>\n",
       "      <th>289</th>\n",
       "      <td>Wyoming</td>\n",
       "      <td>494</td>\n",
       "      <td>73</td>\n",
       "      <td>52</td>\n",
       "      <td>255</td>\n",
       "      <td>54</td>\n",
       "      <td>WY</td>\n",
       "      <td>2016</td>\n",
       "      <td>127</td>\n",
       "    </tr>\n",
       "    <tr>\n",
       "      <th>290</th>\n",
       "      <td>Wyoming</td>\n",
       "      <td>494</td>\n",
       "      <td>73</td>\n",
       "      <td>52</td>\n",
       "      <td>255</td>\n",
       "      <td>54</td>\n",
       "      <td>WY</td>\n",
       "      <td>2017</td>\n",
       "      <td>91</td>\n",
       "    </tr>\n",
       "  </tbody>\n",
       "</table>\n",
       "<p>204 rows × 9 columns</p>\n",
       "</div>"
      ],
      "text/plain": [
       "         state  total  killed  injured  males  females state_code  year  \\\n",
       "1      Alabama   5471    1880     2998   6990     1178         AL  2014   \n",
       "2      Alabama   5471    1880     2998   6990     1178         AL  2015   \n",
       "3      Alabama   5471    1880     2998   6990     1178         AL  2016   \n",
       "4      Alabama   5471    1880     2998   6990     1178         AL  2017   \n",
       "6       Alaska   1349     267      325   1428      238         AK  2014   \n",
       "..         ...    ...     ...      ...    ...      ...        ...   ...   \n",
       "285  Wisconsin   4787     862     2117   5098      801         WI  2017   \n",
       "287    Wyoming    494      73       52    255       54         WY  2014   \n",
       "288    Wyoming    494      73       52    255       54         WY  2015   \n",
       "289    Wyoming    494      73       52    255       54         WY  2016   \n",
       "290    Wyoming    494      73       52    255       54         WY  2017   \n",
       "\n",
       "     year_count  \n",
       "1          1318  \n",
       "2          1034  \n",
       "3          1309  \n",
       "4          1461  \n",
       "6           146  \n",
       "..          ...  \n",
       "285        1369  \n",
       "287          64  \n",
       "288         198  \n",
       "289         127  \n",
       "290          91  \n",
       "\n",
       "[204 rows x 9 columns]"
      ]
     },
     "execution_count": 15,
     "metadata": {},
     "output_type": "execute_result"
    }
   ],
   "source": [
    "statesdf = statesdf[(statesdf['year'] != 2013) & (statesdf['year'] != 2018)]\n",
    "statesdf"
   ]
  },
  {
   "cell_type": "code",
   "execution_count": 16,
   "metadata": {},
   "outputs": [
    {
     "data": {
      "application/vnd.plotly.v1+json": {
       "config": {
        "plotlyServerURL": "https://plot.ly"
       },
       "data": [
        {
         "colorbar": {
          "title": {
           "text": "Millions USD"
          }
         },
         "colorscale": [
          [
           0,
           "rgb(255,255,204)"
          ],
          [
           0.125,
           "rgb(255,237,160)"
          ],
          [
           0.25,
           "rgb(254,217,118)"
          ],
          [
           0.375,
           "rgb(254,178,76)"
          ],
          [
           0.5,
           "rgb(253,141,60)"
          ],
          [
           0.625,
           "rgb(252,78,42)"
          ],
          [
           0.75,
           "rgb(227,26,28)"
          ],
          [
           0.875,
           "rgb(189,0,38)"
          ],
          [
           1,
           "rgb(128,0,38)"
          ]
         ],
         "locationmode": "USA-states",
         "locations": [
          "AL",
          "AL",
          "AL",
          "AL",
          "AK",
          "AK",
          "AK",
          "AK",
          "AZ",
          "AZ",
          "AZ",
          "AZ",
          "AR",
          "AR",
          "AR",
          "AR",
          "CA",
          "CA",
          "CA",
          "CA",
          "CO",
          "CO",
          "CO",
          "CO",
          "CT",
          "CT",
          "CT",
          "CT",
          "DE",
          "DE",
          "DE",
          "DE",
          "dc",
          "dc",
          "dc",
          "dc",
          "FL",
          "FL",
          "FL",
          "FL",
          "GA",
          "GA",
          "GA",
          "GA",
          "HI",
          "HI",
          "HI",
          "HI",
          "ID",
          "ID",
          "ID",
          "ID",
          "IL",
          "IL",
          "IL",
          "IL",
          "IN",
          "IN",
          "IN",
          "IN",
          "IA",
          "IA",
          "IA",
          "IA",
          "KS",
          "KS",
          "KS",
          "KS",
          "KY",
          "KY",
          "KY",
          "KY",
          "LA",
          "LA",
          "LA",
          "LA",
          "ME",
          "ME",
          "ME",
          "ME",
          "MD",
          "MD",
          "MD",
          "MD",
          "MA",
          "MA",
          "MA",
          "MA",
          "MI",
          "MI",
          "MI",
          "MI",
          "MN",
          "MN",
          "MN",
          "MN",
          "MS",
          "MS",
          "MS",
          "MS",
          "MO",
          "MO",
          "MO",
          "MO",
          "MT",
          "MT",
          "MT",
          "MT",
          "NE",
          "NE",
          "NE",
          "NE",
          "NV",
          "NV",
          "NV",
          "NV",
          "NH",
          "NH",
          "NH",
          "NH",
          "NJ",
          "NJ",
          "NJ",
          "NJ",
          "NM",
          "NM",
          "NM",
          "NM",
          "NY",
          "NY",
          "NY",
          "NY",
          "NC",
          "NC",
          "NC",
          "NC",
          "ND",
          "ND",
          "ND",
          "ND",
          "OH",
          "OH",
          "OH",
          "OH",
          "OK",
          "OK",
          "OK",
          "OK",
          "OR",
          "OR",
          "OR",
          "OR",
          "PA",
          "PA",
          "PA",
          "PA",
          "RI",
          "RI",
          "RI",
          "RI",
          "SC",
          "SC",
          "SC",
          "SC",
          "SD",
          "SD",
          "SD",
          "SD",
          "TN",
          "TN",
          "TN",
          "TN",
          "TX",
          "TX",
          "TX",
          "TX",
          "UT",
          "UT",
          "UT",
          "UT",
          "VT",
          "VT",
          "VT",
          "VT",
          "VA",
          "VA",
          "VA",
          "VA",
          "WA",
          "WA",
          "WA",
          "WA",
          "WV",
          "WV",
          "WV",
          "WV",
          "WI",
          "WI",
          "WI",
          "WI",
          "WY",
          "WY",
          "WY",
          "WY"
         ],
         "type": "choropleth",
         "z": [
          5471,
          5471,
          5471,
          5471,
          1349,
          1349,
          1349,
          1349,
          2328,
          2328,
          2328,
          2328,
          2842,
          2842,
          2842,
          2842,
          16306,
          16306,
          16306,
          16306,
          3201,
          3201,
          3201,
          3201,
          3067,
          3067,
          3067,
          3067,
          1685,
          1685,
          1685,
          1685,
          3195,
          3195,
          3195,
          3195,
          15029,
          15029,
          15029,
          15029,
          8925,
          8925,
          8925,
          8925,
          289,
          289,
          289,
          289,
          661,
          661,
          661,
          661,
          17556,
          17556,
          17556,
          17556,
          5852,
          5852,
          5852,
          5852,
          2517,
          2517,
          2517,
          2517,
          2145,
          2145,
          2145,
          2145,
          4157,
          4157,
          4157,
          4157,
          8103,
          8103,
          8103,
          8103,
          907,
          907,
          907,
          907,
          5798,
          5798,
          5798,
          5798,
          5981,
          5981,
          5981,
          5981,
          6136,
          6136,
          6136,
          6136,
          2408,
          2408,
          2408,
          2408,
          3599,
          3599,
          3599,
          3599,
          6631,
          6631,
          6631,
          6631,
          638,
          638,
          638,
          638,
          1651,
          1651,
          1651,
          1651,
          1952,
          1952,
          1952,
          1952,
          964,
          964,
          964,
          964,
          5387,
          5387,
          5387,
          5387,
          1645,
          1645,
          1645,
          1645,
          9712,
          9712,
          9712,
          9712,
          8739,
          8739,
          8739,
          8739,
          573,
          573,
          573,
          573,
          10244,
          10244,
          10244,
          10244,
          3455,
          3455,
          3455,
          3455,
          2286,
          2286,
          2286,
          2286,
          8929,
          8929,
          8929,
          8929,
          895,
          895,
          895,
          895,
          6939,
          6939,
          6939,
          6939,
          544,
          544,
          544,
          544,
          7626,
          7626,
          7626,
          7626,
          13577,
          13577,
          13577,
          13577,
          1072,
          1072,
          1072,
          1072,
          472,
          472,
          472,
          472,
          5949,
          5949,
          5949,
          5949,
          3434,
          3434,
          3434,
          3434,
          1575,
          1575,
          1575,
          1575,
          4787,
          4787,
          4787,
          4787,
          494,
          494,
          494,
          494
         ]
        }
       ],
       "layout": {
        "geo": {
         "lakecolor": "rgb(137, 207, 240)",
         "projection": {
          "type": "albers usa"
         },
         "scope": "usa",
         "showlakes": true
        },
        "template": {
         "data": {
          "candlestick": [
           {
            "decreasing": {
             "line": {
              "color": "#000033"
             }
            },
            "increasing": {
             "line": {
              "color": "#000032"
             }
            },
            "type": "candlestick"
           }
          ],
          "contour": [
           {
            "colorscale": [
             [
              0,
              "#000011"
             ],
             [
              0.1111111111111111,
              "#000012"
             ],
             [
              0.2222222222222222,
              "#000013"
             ],
             [
              0.3333333333333333,
              "#000014"
             ],
             [
              0.4444444444444444,
              "#000015"
             ],
             [
              0.5555555555555556,
              "#000016"
             ],
             [
              0.6666666666666666,
              "#000017"
             ],
             [
              0.7777777777777778,
              "#000018"
             ],
             [
              0.8888888888888888,
              "#000019"
             ],
             [
              1,
              "#000020"
             ]
            ],
            "type": "contour"
           }
          ],
          "contourcarpet": [
           {
            "colorscale": [
             [
              0,
              "#000011"
             ],
             [
              0.1111111111111111,
              "#000012"
             ],
             [
              0.2222222222222222,
              "#000013"
             ],
             [
              0.3333333333333333,
              "#000014"
             ],
             [
              0.4444444444444444,
              "#000015"
             ],
             [
              0.5555555555555556,
              "#000016"
             ],
             [
              0.6666666666666666,
              "#000017"
             ],
             [
              0.7777777777777778,
              "#000018"
             ],
             [
              0.8888888888888888,
              "#000019"
             ],
             [
              1,
              "#000020"
             ]
            ],
            "type": "contourcarpet"
           }
          ],
          "heatmap": [
           {
            "colorscale": [
             [
              0,
              "#000011"
             ],
             [
              0.1111111111111111,
              "#000012"
             ],
             [
              0.2222222222222222,
              "#000013"
             ],
             [
              0.3333333333333333,
              "#000014"
             ],
             [
              0.4444444444444444,
              "#000015"
             ],
             [
              0.5555555555555556,
              "#000016"
             ],
             [
              0.6666666666666666,
              "#000017"
             ],
             [
              0.7777777777777778,
              "#000018"
             ],
             [
              0.8888888888888888,
              "#000019"
             ],
             [
              1,
              "#000020"
             ]
            ],
            "type": "heatmap"
           }
          ],
          "histogram2d": [
           {
            "colorscale": [
             [
              0,
              "#000011"
             ],
             [
              0.1111111111111111,
              "#000012"
             ],
             [
              0.2222222222222222,
              "#000013"
             ],
             [
              0.3333333333333333,
              "#000014"
             ],
             [
              0.4444444444444444,
              "#000015"
             ],
             [
              0.5555555555555556,
              "#000016"
             ],
             [
              0.6666666666666666,
              "#000017"
             ],
             [
              0.7777777777777778,
              "#000018"
             ],
             [
              0.8888888888888888,
              "#000019"
             ],
             [
              1,
              "#000020"
             ]
            ],
            "type": "histogram2d"
           }
          ],
          "icicle": [
           {
            "textfont": {
             "color": "white"
            },
            "type": "icicle"
           }
          ],
          "sankey": [
           {
            "textfont": {
             "color": "#000036"
            },
            "type": "sankey"
           }
          ],
          "scatter": [
           {
            "marker": {
             "line": {
              "width": 0
             }
            },
            "type": "scatter"
           }
          ],
          "table": [
           {
            "cells": {
             "fill": {
              "color": "#000038"
             },
             "font": {
              "color": "#000037"
             },
             "line": {
              "color": "#000039"
             }
            },
            "header": {
             "fill": {
              "color": "#000040"
             },
             "font": {
              "color": "#000036"
             },
             "line": {
              "color": "#000039"
             }
            },
            "type": "table"
           }
          ],
          "waterfall": [
           {
            "connector": {
             "line": {
              "color": "#000036",
              "width": 2
             }
            },
            "decreasing": {
             "marker": {
              "color": "#000033"
             }
            },
            "increasing": {
             "marker": {
              "color": "#000032"
             }
            },
            "totals": {
             "marker": {
              "color": "#000034"
             }
            },
            "type": "waterfall"
           }
          ]
         },
         "layout": {
          "coloraxis": {
           "colorscale": [
            [
             0,
             "#000011"
            ],
            [
             0.1111111111111111,
             "#000012"
            ],
            [
             0.2222222222222222,
             "#000013"
            ],
            [
             0.3333333333333333,
             "#000014"
            ],
            [
             0.4444444444444444,
             "#000015"
            ],
            [
             0.5555555555555556,
             "#000016"
            ],
            [
             0.6666666666666666,
             "#000017"
            ],
            [
             0.7777777777777778,
             "#000018"
            ],
            [
             0.8888888888888888,
             "#000019"
            ],
            [
             1,
             "#000020"
            ]
           ]
          },
          "colorscale": {
           "diverging": [
            [
             0,
             "#000021"
            ],
            [
             0.1,
             "#000022"
            ],
            [
             0.2,
             "#000023"
            ],
            [
             0.3,
             "#000024"
            ],
            [
             0.4,
             "#000025"
            ],
            [
             0.5,
             "#000026"
            ],
            [
             0.6,
             "#000027"
            ],
            [
             0.7,
             "#000028"
            ],
            [
             0.8,
             "#000029"
            ],
            [
             0.9,
             "#000030"
            ],
            [
             1,
             "#000031"
            ]
           ],
           "sequential": [
            [
             0,
             "#000011"
            ],
            [
             0.1111111111111111,
             "#000012"
            ],
            [
             0.2222222222222222,
             "#000013"
            ],
            [
             0.3333333333333333,
             "#000014"
            ],
            [
             0.4444444444444444,
             "#000015"
            ],
            [
             0.5555555555555556,
             "#000016"
            ],
            [
             0.6666666666666666,
             "#000017"
            ],
            [
             0.7777777777777778,
             "#000018"
            ],
            [
             0.8888888888888888,
             "#000019"
            ],
            [
             1,
             "#000020"
            ]
           ],
           "sequentialminus": [
            [
             0,
             "#000011"
            ],
            [
             0.1111111111111111,
             "#000012"
            ],
            [
             0.2222222222222222,
             "#000013"
            ],
            [
             0.3333333333333333,
             "#000014"
            ],
            [
             0.4444444444444444,
             "#000015"
            ],
            [
             0.5555555555555556,
             "#000016"
            ],
            [
             0.6666666666666666,
             "#000017"
            ],
            [
             0.7777777777777778,
             "#000018"
            ],
            [
             0.8888888888888888,
             "#000019"
            ],
            [
             1,
             "#000020"
            ]
           ]
          },
          "colorway": [
           "#000001",
           "#000002",
           "#000003",
           "#000004",
           "#000005",
           "#000006",
           "#000007",
           "#000008",
           "#000009",
           "#000010"
          ]
         }
        },
        "title": {
         "text": "2011 US Agriculture Exports by State"
        }
       }
      }
     },
     "metadata": {},
     "output_type": "display_data"
    }
   ],
   "source": [
    "fig = go.Figure(data=go.Choropleth(\n",
    "    locations=statesdf['state_code'], # Spatial coordinates\n",
    "    z = statesdf['total'].astype(int), # Data to be color-coded\n",
    "    locationmode = 'USA-states', # set of locations match entries in `locations`\n",
    "    colorscale = 'Ylorrd',\n",
    "    colorbar_title = \"Millions USD\",\n",
    "))\n",
    "fig.update_layout(\n",
    "    title_text = '2011 US Agriculture Exports by State',\n",
    "    geo = dict(\n",
    "        scope='usa',\n",
    "        projection=go.layout.geo.Projection(type = 'albers usa'),\n",
    "        showlakes=True, # lakes\n",
    "        lakecolor='rgb(137, 207, 240)',),\n",
    ")"
   ]
  },
  {
   "cell_type": "code",
   "execution_count": 17,
   "metadata": {},
   "outputs": [],
   "source": [
    "# Group data by year\n",
    "year_groups = df.groupby('year')\n",
    "\n",
    "# Calculate counts (modify based on actual column names)\n",
    "killed_counts = year_groups['n_killed'].sum()\n",
    "injured_counts = year_groups['n_injured'].sum()"
   ]
  },
  {
   "cell_type": "code",
   "execution_count": 18,
   "metadata": {},
   "outputs": [
    {
     "data": {
      "text/html": [
       "<div>\n",
       "<style scoped>\n",
       "    .dataframe tbody tr th:only-of-type {\n",
       "        vertical-align: middle;\n",
       "    }\n",
       "\n",
       "    .dataframe tbody tr th {\n",
       "        vertical-align: top;\n",
       "    }\n",
       "\n",
       "    .dataframe thead th {\n",
       "        text-align: right;\n",
       "    }\n",
       "</style>\n",
       "<table border=\"1\" class=\"dataframe\">\n",
       "  <thead>\n",
       "    <tr style=\"text-align: right;\">\n",
       "      <th></th>\n",
       "      <th>year</th>\n",
       "      <th>killed</th>\n",
       "      <th>injured</th>\n",
       "    </tr>\n",
       "  </thead>\n",
       "  <tbody>\n",
       "    <tr>\n",
       "      <th>0</th>\n",
       "      <td>2013</td>\n",
       "      <td>317</td>\n",
       "      <td>979</td>\n",
       "    </tr>\n",
       "    <tr>\n",
       "      <th>1</th>\n",
       "      <td>2014</td>\n",
       "      <td>12557</td>\n",
       "      <td>23002</td>\n",
       "    </tr>\n",
       "    <tr>\n",
       "      <th>2</th>\n",
       "      <td>2015</td>\n",
       "      <td>13484</td>\n",
       "      <td>26967</td>\n",
       "    </tr>\n",
       "    <tr>\n",
       "      <th>3</th>\n",
       "      <td>2016</td>\n",
       "      <td>15066</td>\n",
       "      <td>30580</td>\n",
       "    </tr>\n",
       "    <tr>\n",
       "      <th>4</th>\n",
       "      <td>2017</td>\n",
       "      <td>15511</td>\n",
       "      <td>30703</td>\n",
       "    </tr>\n",
       "    <tr>\n",
       "      <th>5</th>\n",
       "      <td>2018</td>\n",
       "      <td>3533</td>\n",
       "      <td>6171</td>\n",
       "    </tr>\n",
       "  </tbody>\n",
       "</table>\n",
       "</div>"
      ],
      "text/plain": [
       "   year  killed  injured\n",
       "0  2013     317      979\n",
       "1  2014   12557    23002\n",
       "2  2015   13484    26967\n",
       "3  2016   15066    30580\n",
       "4  2017   15511    30703\n",
       "5  2018    3533     6171"
      ]
     },
     "execution_count": 18,
     "metadata": {},
     "output_type": "execute_result"
    }
   ],
   "source": [
    "# Combine counts into a DataFrame (optional)\n",
    "year_data = pd.DataFrame({'year': killed_counts.index, 'killed': killed_counts.values, 'injured': injured_counts.values})\n",
    "year_data \n"
   ]
  },
  {
   "cell_type": "code",
   "execution_count": 19,
   "metadata": {},
   "outputs": [
    {
     "name": "stderr",
     "output_type": "stream",
     "text": [
      "2024-05-06 19:27:49.098 \n",
      "  \u001b[33m\u001b[1mWarning:\u001b[0m to view this Streamlit app on a browser, run it with the following\n",
      "  command:\n",
      "\n",
      "    streamlit run c:\\Users\\jakeh\\anaconda3\\envs\\venv\\lib\\site-packages\\ipykernel_launcher.py [ARGUMENTS]\n"
     ]
    }
   ],
   "source": [
    "if not year_data.empty:  # Check if data exists for the filtered year\n",
    "    st.bar_chart(year_data, x='year', y=['killed', 'injured'])\n",
    "else:\n",
    "    st.write(\"No data available for the selected year.\")"
   ]
  },
  {
   "cell_type": "code",
   "execution_count": 20,
   "metadata": {},
   "outputs": [],
   "source": [
    "df['participant_age_group'] = df['participant_age_group'].fillna(\"0::Zero\")\n",
    "df['Age'] = df['participant_age_group'].apply(lambda x: separate(x))\n",
    "df['Child 0-11'] = df['Age'].apply(lambda x: x.count('Child 0-11'))\n",
    "df['Teen 12-17'] = df['Age'].apply(lambda x: x.count('Teen 12-17'))\n",
    "df['Adult 18+'] = df['Age'].apply(lambda x: x.count('Adult 18+'))"
   ]
  },
  {
   "cell_type": "code",
   "execution_count": 21,
   "metadata": {},
   "outputs": [],
   "source": [
    "df = df[(df['year'] != 2013) & (df['year'] != 2018)]"
   ]
  },
  {
   "cell_type": "code",
   "execution_count": 22,
   "metadata": {},
   "outputs": [],
   "source": [
    "age_group = df[['year', 'Child 0-11', 'Teen 12-17', 'Adult 18+']].groupby('year').sum()"
   ]
  },
  {
   "cell_type": "code",
   "execution_count": 23,
   "metadata": {},
   "outputs": [
    {
     "data": {
      "text/html": [
       "<div>\n",
       "<style scoped>\n",
       "    .dataframe tbody tr th:only-of-type {\n",
       "        vertical-align: middle;\n",
       "    }\n",
       "\n",
       "    .dataframe tbody tr th {\n",
       "        vertical-align: top;\n",
       "    }\n",
       "\n",
       "    .dataframe thead th {\n",
       "        text-align: right;\n",
       "    }\n",
       "</style>\n",
       "<table border=\"1\" class=\"dataframe\">\n",
       "  <thead>\n",
       "    <tr style=\"text-align: right;\">\n",
       "      <th></th>\n",
       "      <th>Child 0-11</th>\n",
       "      <th>Teen 12-17</th>\n",
       "      <th>Adult 18+</th>\n",
       "    </tr>\n",
       "    <tr>\n",
       "      <th>year</th>\n",
       "      <th></th>\n",
       "      <th></th>\n",
       "      <th></th>\n",
       "    </tr>\n",
       "  </thead>\n",
       "  <tbody>\n",
       "    <tr>\n",
       "      <th>2014</th>\n",
       "      <td>1280</td>\n",
       "      <td>4943</td>\n",
       "      <td>69285</td>\n",
       "    </tr>\n",
       "    <tr>\n",
       "      <th>2015</th>\n",
       "      <td>1086</td>\n",
       "      <td>5602</td>\n",
       "      <td>67004</td>\n",
       "    </tr>\n",
       "    <tr>\n",
       "      <th>2016</th>\n",
       "      <td>968</td>\n",
       "      <td>6307</td>\n",
       "      <td>74415</td>\n",
       "    </tr>\n",
       "    <tr>\n",
       "      <th>2017</th>\n",
       "      <td>905</td>\n",
       "      <td>6670</td>\n",
       "      <td>73047</td>\n",
       "    </tr>\n",
       "  </tbody>\n",
       "</table>\n",
       "</div>"
      ],
      "text/plain": [
       "      Child 0-11  Teen 12-17  Adult 18+\n",
       "year                                   \n",
       "2014        1280        4943      69285\n",
       "2015        1086        5602      67004\n",
       "2016         968        6307      74415\n",
       "2017         905        6670      73047"
      ]
     },
     "execution_count": 23,
     "metadata": {},
     "output_type": "execute_result"
    }
   ],
   "source": [
    "age_group"
   ]
  },
  {
   "cell_type": "code",
   "execution_count": 26,
   "metadata": {},
   "outputs": [
    {
     "data": {
      "application/vnd.plotly.v1+json": {
       "config": {
        "plotlyServerURL": "https://plot.ly"
       },
       "data": [
        {
         "line": {
          "color": "blue"
         },
         "mode": "lines+markers",
         "name": "Child 0-11",
         "type": "scatter",
         "x": [
          1,
          2,
          3,
          4,
          5,
          6,
          7,
          8,
          9,
          10,
          11,
          12
         ],
         "y": [
          322,
          308,
          252,
          359,
          431,
          357,
          451,
          432,
          368,
          341,
          354,
          264
         ]
        },
        {
         "line": {
          "color": "green"
         },
         "mode": "lines+markers",
         "name": "Teen 12-17",
         "type": "scatter",
         "x": [
          1,
          2,
          3,
          4,
          5,
          6,
          7,
          8,
          9,
          10,
          11,
          12
         ],
         "y": [
          1953,
          1642,
          1550,
          1843,
          2064,
          2011,
          2275,
          2132,
          1996,
          2137,
          1976,
          1943
         ]
        },
        {
         "line": {
          "color": "red"
         },
         "mode": "lines+markers",
         "name": "Adult 18+",
         "type": "scatter",
         "x": [
          1,
          2,
          3,
          4,
          5,
          6,
          7,
          8,
          9,
          10,
          11,
          12
         ],
         "y": [
          24021,
          19030,
          17509,
          23551,
          25805,
          25164,
          27970,
          26801,
          24607,
          24769,
          22125,
          22399
         ]
        }
       ],
       "layout": {
        "template": {
         "data": {
          "candlestick": [
           {
            "decreasing": {
             "line": {
              "color": "#000033"
             }
            },
            "increasing": {
             "line": {
              "color": "#000032"
             }
            },
            "type": "candlestick"
           }
          ],
          "contour": [
           {
            "colorscale": [
             [
              0,
              "#000011"
             ],
             [
              0.1111111111111111,
              "#000012"
             ],
             [
              0.2222222222222222,
              "#000013"
             ],
             [
              0.3333333333333333,
              "#000014"
             ],
             [
              0.4444444444444444,
              "#000015"
             ],
             [
              0.5555555555555556,
              "#000016"
             ],
             [
              0.6666666666666666,
              "#000017"
             ],
             [
              0.7777777777777778,
              "#000018"
             ],
             [
              0.8888888888888888,
              "#000019"
             ],
             [
              1,
              "#000020"
             ]
            ],
            "type": "contour"
           }
          ],
          "contourcarpet": [
           {
            "colorscale": [
             [
              0,
              "#000011"
             ],
             [
              0.1111111111111111,
              "#000012"
             ],
             [
              0.2222222222222222,
              "#000013"
             ],
             [
              0.3333333333333333,
              "#000014"
             ],
             [
              0.4444444444444444,
              "#000015"
             ],
             [
              0.5555555555555556,
              "#000016"
             ],
             [
              0.6666666666666666,
              "#000017"
             ],
             [
              0.7777777777777778,
              "#000018"
             ],
             [
              0.8888888888888888,
              "#000019"
             ],
             [
              1,
              "#000020"
             ]
            ],
            "type": "contourcarpet"
           }
          ],
          "heatmap": [
           {
            "colorscale": [
             [
              0,
              "#000011"
             ],
             [
              0.1111111111111111,
              "#000012"
             ],
             [
              0.2222222222222222,
              "#000013"
             ],
             [
              0.3333333333333333,
              "#000014"
             ],
             [
              0.4444444444444444,
              "#000015"
             ],
             [
              0.5555555555555556,
              "#000016"
             ],
             [
              0.6666666666666666,
              "#000017"
             ],
             [
              0.7777777777777778,
              "#000018"
             ],
             [
              0.8888888888888888,
              "#000019"
             ],
             [
              1,
              "#000020"
             ]
            ],
            "type": "heatmap"
           }
          ],
          "histogram2d": [
           {
            "colorscale": [
             [
              0,
              "#000011"
             ],
             [
              0.1111111111111111,
              "#000012"
             ],
             [
              0.2222222222222222,
              "#000013"
             ],
             [
              0.3333333333333333,
              "#000014"
             ],
             [
              0.4444444444444444,
              "#000015"
             ],
             [
              0.5555555555555556,
              "#000016"
             ],
             [
              0.6666666666666666,
              "#000017"
             ],
             [
              0.7777777777777778,
              "#000018"
             ],
             [
              0.8888888888888888,
              "#000019"
             ],
             [
              1,
              "#000020"
             ]
            ],
            "type": "histogram2d"
           }
          ],
          "icicle": [
           {
            "textfont": {
             "color": "white"
            },
            "type": "icicle"
           }
          ],
          "sankey": [
           {
            "textfont": {
             "color": "#000036"
            },
            "type": "sankey"
           }
          ],
          "scatter": [
           {
            "marker": {
             "line": {
              "width": 0
             }
            },
            "type": "scatter"
           }
          ],
          "table": [
           {
            "cells": {
             "fill": {
              "color": "#000038"
             },
             "font": {
              "color": "#000037"
             },
             "line": {
              "color": "#000039"
             }
            },
            "header": {
             "fill": {
              "color": "#000040"
             },
             "font": {
              "color": "#000036"
             },
             "line": {
              "color": "#000039"
             }
            },
            "type": "table"
           }
          ],
          "waterfall": [
           {
            "connector": {
             "line": {
              "color": "#000036",
              "width": 2
             }
            },
            "decreasing": {
             "marker": {
              "color": "#000033"
             }
            },
            "increasing": {
             "marker": {
              "color": "#000032"
             }
            },
            "totals": {
             "marker": {
              "color": "#000034"
             }
            },
            "type": "waterfall"
           }
          ]
         },
         "layout": {
          "coloraxis": {
           "colorscale": [
            [
             0,
             "#000011"
            ],
            [
             0.1111111111111111,
             "#000012"
            ],
            [
             0.2222222222222222,
             "#000013"
            ],
            [
             0.3333333333333333,
             "#000014"
            ],
            [
             0.4444444444444444,
             "#000015"
            ],
            [
             0.5555555555555556,
             "#000016"
            ],
            [
             0.6666666666666666,
             "#000017"
            ],
            [
             0.7777777777777778,
             "#000018"
            ],
            [
             0.8888888888888888,
             "#000019"
            ],
            [
             1,
             "#000020"
            ]
           ]
          },
          "colorscale": {
           "diverging": [
            [
             0,
             "#000021"
            ],
            [
             0.1,
             "#000022"
            ],
            [
             0.2,
             "#000023"
            ],
            [
             0.3,
             "#000024"
            ],
            [
             0.4,
             "#000025"
            ],
            [
             0.5,
             "#000026"
            ],
            [
             0.6,
             "#000027"
            ],
            [
             0.7,
             "#000028"
            ],
            [
             0.8,
             "#000029"
            ],
            [
             0.9,
             "#000030"
            ],
            [
             1,
             "#000031"
            ]
           ],
           "sequential": [
            [
             0,
             "#000011"
            ],
            [
             0.1111111111111111,
             "#000012"
            ],
            [
             0.2222222222222222,
             "#000013"
            ],
            [
             0.3333333333333333,
             "#000014"
            ],
            [
             0.4444444444444444,
             "#000015"
            ],
            [
             0.5555555555555556,
             "#000016"
            ],
            [
             0.6666666666666666,
             "#000017"
            ],
            [
             0.7777777777777778,
             "#000018"
            ],
            [
             0.8888888888888888,
             "#000019"
            ],
            [
             1,
             "#000020"
            ]
           ],
           "sequentialminus": [
            [
             0,
             "#000011"
            ],
            [
             0.1111111111111111,
             "#000012"
            ],
            [
             0.2222222222222222,
             "#000013"
            ],
            [
             0.3333333333333333,
             "#000014"
            ],
            [
             0.4444444444444444,
             "#000015"
            ],
            [
             0.5555555555555556,
             "#000016"
            ],
            [
             0.6666666666666666,
             "#000017"
            ],
            [
             0.7777777777777778,
             "#000018"
            ],
            [
             0.8888888888888888,
             "#000019"
            ],
            [
             1,
             "#000020"
            ]
           ]
          },
          "colorway": [
           "#000001",
           "#000002",
           "#000003",
           "#000004",
           "#000005",
           "#000006",
           "#000007",
           "#000008",
           "#000009",
           "#000010"
          ]
         }
        },
        "title": {
         "text": "Gun Violence Incidents by Age Group Over the Months"
        },
        "xaxis": {
         "title": {
          "text": "Month"
         }
        },
        "yaxis": {
         "title": {
          "text": "Counts"
         }
        }
       }
      }
     },
     "metadata": {},
     "output_type": "display_data"
    }
   ],
   "source": [
    "# Group data by month and sum up the counts for each age group\n",
    "age_group = df[['month', 'Child 0-11', 'Teen 12-17', 'Adult 18+']].groupby('month').sum()\n",
    "\n",
    "# Define colors for each age group\n",
    "colors = {\n",
    "    'Child 0-11': 'blue',\n",
    "    'Teen 12-17': 'green',\n",
    "    'Adult 18+': 'red'\n",
    "}\n",
    "\n",
    "# Create traces for each age group\n",
    "traces = []\n",
    "for column in age_group.columns:\n",
    "    trace = go.Scatter(x=age_group.index, y=age_group[column], mode='lines+markers', name=column,\n",
    "                       line=dict(color=colors[column]))\n",
    "    traces.append(trace)\n",
    "\n",
    "# Create layout\n",
    "layout = go.Layout(title='Gun Violence Incidents by Age Group Over the Months',\n",
    "                   xaxis=dict(title='Month'),\n",
    "                   yaxis=dict(title='Counts'))\n",
    "\n",
    "# Create figure\n",
    "fig = go.Figure(data=traces, layout=layout)\n",
    "fig"
   ]
  },
  {
   "cell_type": "code",
   "execution_count": 40,
   "metadata": {},
   "outputs": [],
   "source": [
    "def count_individual_incidents(incident_str):\n",
    "    if isinstance(incident_str, str):  # Check if the value is a non-null string\n",
    "        incidents = incident_str.split('||')\n",
    "        incident_counts = {}\n",
    "        for incident_entry in incidents:\n",
    "            if incident_entry in incident_counts:\n",
    "                incident_counts[incident_entry] += 1\n",
    "            else:\n",
    "                incident_counts[incident_entry] = 1\n",
    "        return incident_counts\n",
    "    else:\n",
    "        return {}"
   ]
  },
  {
   "cell_type": "code",
   "execution_count": 42,
   "metadata": {},
   "outputs": [
    {
     "name": "stdout",
     "output_type": "stream",
     "text": [
      "Incident: Shots Fired - No Injuries - Count: 32945\n",
      "Incident: Officer Involved Incident - Count: 16601\n",
      "Incident: Shot - Dead (murder, accidental, suicide) - Count: 49636\n",
      "Incident: Shot - Wounded/Injured - Count: 87975\n",
      "Incident: Drive-by (car to street, car to car) - Count: 12689\n",
      "Incident: Armed robbery with injury/death and/or evidence of DGU found - Count: 18684\n",
      "Incident: Implied Weapon - Count: 1168\n",
      "Incident: Home Invasion - Count: 9918\n",
      "Incident: Home Invasion - Resident injured - Count: 2739\n",
      "Incident: Pistol-whipping - Count: 3508\n",
      "Incident: Accidental Shooting - Count: 7653\n",
      "Incident: Accidental Shooting - Injury - Count: 4994\n",
      "Incident: Cleaning gun - Count: 466\n",
      "Incident: Brandishing/flourishing/open carry/lost/found - Count: 17345\n",
      "Incident: Officer Involved Shooting - subject/suspect/perpetrator shot - Count: 3372\n",
      "Incident: Possession (gun(s) found during commission of other crimes) - Count: 28831\n",
      "Incident: Non-Shooting Incident - Count: 41309\n",
      "Incident: Drug involvement - Count: 15653\n",
      "Incident: ATF/LE Confiscation/Raid/Arrest - Count: 16073\n",
      "Incident: Unlawful purchase/sale - Count: 713\n",
      "Incident: Car-jacking - Count: 4600\n",
      "Incident: Accidental Shooting - Death - Count: 1621\n",
      "Incident: BB/Pellet/Replica gun - Count: 1613\n",
      "Incident: Hunting accident - Count: 491\n",
      "Incident: Road rage - Count: 1973\n",
      "Incident: Suicide^ - Count: 4882\n",
      "Incident: Murder/Suicide - Count: 2262\n",
      "Incident: Domestic Violence - Count: 9927\n",
      "Incident: Home Invasion - No death or injury - Count: 4815\n",
      "Incident: Accidental/Negligent Discharge - Count: 6011\n",
      "Incident: Shots fired, no action (reported, no evidence found) - Count: 1885\n",
      "Incident: Mass Shooting (4+ victims injured or killed excluding the subject/suspect/perpetrator, one location) - Count: 1314\n",
      "Incident: Gang involvement - Count: 5328\n",
      "Incident: Possession of gun by felon or prohibited person - Count: 15744\n",
      "Incident: Sex crime involving firearm - Count: 617\n",
      "Incident: Defensive Use - Count: 6883\n",
      "Incident: TSA Action - Count: 5024\n",
      "Incident: Institution/Group/Business - Count: 9679\n",
      "Incident: Officer Involved Shooting - subject/suspect/perpetrator killed - Count: 4207\n",
      "Incident: Under the influence of alcohol or drugs (only applies to the subject/suspect/perpetrator ) - Count: 3235\n",
      "Incident: Thought gun was unloaded - Count: 374\n",
      "Incident: Gun(s) stolen from owner - Count: 5985\n",
      "Incident: Gun range/gun shop/gun show shooting - Count: 408\n",
      "Incident: Officer Involved Shooting - Officer shot - Count: 1019\n",
      "Incident: Home Invasion - subject/suspect/perpetrator killed - Count: 783\n",
      "Incident: Home Invasion - subject/suspect/perpetrator injured - Count: 1001\n",
      "Incident: Animal shot/killed - Count: 692\n",
      "Incident: Child Involved Incident - Count: 1939\n",
      "Incident: Child injured self - Count: 205\n",
      "Incident: Officer Involved Shooting - subject/suspect/perpetrator suicide at standoff - Count: 892\n",
      "Incident: Suicide - Attempt - Count: 552\n",
      "Incident: Bar/club incident - in or around establishment - Count: 4197\n",
      "Incident: Home Invasion - Resident killed - Count: 887\n",
      "Incident: Child killed by child - Count: 78\n",
      "Incident: Self-Inflicted (not suicide or suicide attempt - NO PERP) - Count: 1723\n",
      "Incident: School Incident - Count: 2433\n",
      "Incident: School Shooting - elementary/secondary school - Count: 204\n",
      "Incident: Officer Involved Incident - Weapon involved but no shots fired - Count: 3738\n",
      "Incident: Defensive Use - Victim stops crime - Count: 2517\n",
      "Incident: Defensive Use - Shots fired, no injury/death - Count: 754\n",
      "Incident: Concealed Carry License - Victim - Count: 586\n",
      "Incident: Officer Involved Shooting - Shots fired, no injury - Count: 2623\n",
      "Incident: Kidnapping/abductions/hostage - Count: 2507\n",
      "Incident: House party - Count: 684\n",
      "Incident: Accidental Shooting at a Business - Count: 544\n",
      "Incident: Defensive Use - Crime occurs, victim shoots subject/suspect/perpetrator - Count: 2441\n",
      "Incident: Criminal act with stolen gun - Count: 1997\n",
      "Incident: Child killed self - Count: 156\n",
      "Incident: Child picked up & fired gun - Count: 568\n",
      "Incident: Gun at school, no death/injury - elementary/secondary school - Count: 1741\n",
      "Incident: Gun at school, no death/injury - university/college - Count: 236\n",
      "Incident: Non-Aggression Incident - Count: 2660\n",
      "Incident: Defensive Use - WITHOUT a gun - Count: 926\n",
      "Incident: Attempted Murder/Suicide (one variable unsuccessful) - Count: 418\n",
      "Incident: Stolen/Illegally owned gun{s} recovered during arrest/warrant - Count: 6883\n",
      "Incident: Police Targeted - Count: 463\n",
      "Incident: Defensive Use - Stand Your Ground/Castle Doctrine established - Count: 1284\n",
      "Incident: Officer Involved Shooting - Officer killed - Count: 218\n",
      "Incident: School Shooting - university/college - Count: 149\n",
      "Incident: Playing with gun - Count: 1043\n",
      "Incident: Child injured by child - Count: 148\n",
      "Incident: Officer Involved Shooting - subject/suspect/perpetrator unarmed - Count: 297\n",
      "Incident: Spree Shooting (multiple victims, multiple locations) - Count: 371\n",
      "Incident: Assault weapon (AR-15, AK-47, and ALL variants defined by law enforcement) - Count: 1771\n",
      "Incident: ShotSpotter - Count: 574\n",
      "Incident: Officer Involved Shooting - subject/suspect/perpetrator surrender at standoff - Count: 2090\n",
      "Incident: Defensive Use - Good Samaritan/Third Party - Count: 491\n",
      "Incident: LOCKDOWN/ALERT ONLY: No GV Incident Occurred Onsite - Count: 1297\n",
      "Incident: Mass Murder (4+ deceased victims excluding the subject/suspect/perpetrator , one location) - Count: 79\n",
      "Incident: Child killed (not child shooter) - Count: 250\n",
      "Incident: Child with gun - no shots fired - Count: 140\n",
      "Incident: Gun shop robbery or burglary - Count: 548\n",
      "Incident: Shot - Wounded/Injured|Brandishing/flourishing/open carry/lost/found - Count: 64\n",
      "Incident: Shot - Wounded/Injured|Armed robbery with injury/death and/or evidence of DGU found|Brandishing/flourishing/open carry/lost/found - Count: 12\n",
      "Incident: Shot - Dead (murder, accidental, suicide)|Armed robbery with injury/death and/or evidence of DGU found - Count: 16\n",
      "Incident: Shots Fired - No Injuries|Drive-by (car to street, car to car) - Count: 20\n",
      "Incident: Accidental Shooting|Accidental Shooting - Death|Accidental/Negligent Discharge|Drug involvement - Count: 1\n",
      "Incident: Shots Fired - No Injuries|Armed robbery with injury/death and/or evidence of DGU found - Count: 12\n",
      "Incident: Armed robbery with injury/death and/or evidence of DGU found|Brandishing/flourishing/open carry/lost/found - Count: 112\n",
      "Incident: Shot - Wounded/Injured|Home Invasion|Home Invasion - subject/suspect/perpetrator injured|Domestic Violence|Brandishing/flourishing/open carry/lost/found|Defensive Use - Count: 1\n",
      "Incident: Shot - Dead (murder, accidental, suicide)|Drug involvement - Count: 7\n",
      "Incident: Shot - Wounded/Injured|Suicide^|Officer Involved Incident|Officer Involved Shooting - subject/suspect/perpetrator suicide at standoff|Domestic Violence - Count: 1\n",
      "Incident: Shot - Dead (murder, accidental, suicide)|Brandishing/flourishing/open carry/lost/found - Count: 18\n",
      "Incident: Shot - Wounded/Injured|Shot - Dead (murder, accidental, suicide) - Count: 69\n",
      "Incident: Shots Fired - No Injuries|Brandishing/flourishing/open carry/lost/found - Count: 11\n",
      "Incident: Shot - Wounded/Injured|Mass Shooting (4+ victims injured or killed excluding the subject/suspect/perpetrator, one location)|Brandishing/flourishing/open carry/lost/found - Count: 2\n",
      "Incident: Shot - Wounded/Injured|Accidental Shooting|Accidental Shooting - Injury|Accidental/Negligent Discharge - Count: 27\n",
      "Incident: Shot - Dead (murder, accidental, suicide)|Home Invasion|Home Invasion - subject/suspect/perpetrator killed|Defensive Use - Count: 4\n",
      "Incident: Shot - Wounded/Injured|Bar/club incident - in or around establishment|Brandishing/flourishing/open carry/lost/found - Count: 9\n",
      "Incident: Shot - Dead (murder, accidental, suicide)|Drive-by (car to street, car to car) - Count: 15\n",
      "Incident: Domestic Violence|Brandishing/flourishing/open carry/lost/found - Count: 3\n",
      "Incident: Shot - Wounded/Injured|Domestic Violence - Count: 15\n",
      "Incident: Shot - Dead (murder, accidental, suicide)|Armed robbery with injury/death and/or evidence of DGU found|Brandishing/flourishing/open carry/lost/found - Count: 6\n",
      "Incident: Shot - Wounded/Injured|Home Invasion|Home Invasion - Resident injured|Armed robbery with injury/death and/or evidence of DGU found|Pistol-whipping|Brandishing/flourishing/open carry/lost/found - Count: 1\n",
      "Incident: Armed robbery with injury/death and/or evidence of DGU found|Pistol-whipping - Count: 13\n",
      "Incident: Shot - Dead (murder, accidental, suicide)|Bar/club incident - in or around establishment|Brandishing/flourishing/open carry/lost/found - Count: 1\n",
      "Incident: Shot - Dead (murder, accidental, suicide)|Gang involvement - Count: 11\n",
      "Incident: Shot - Wounded/Injured|Drive-by (car to street, car to car) - Count: 34\n",
      "Incident: Shot - Wounded/Injured|Shot - Dead (murder, accidental, suicide)|Bar/club incident - in or around establishment - Count: 8\n",
      "Incident: Shot - Wounded/Injured|Shot - Dead (murder, accidental, suicide)|Mass Shooting (4+ victims injured or killed excluding the subject/suspect/perpetrator, one location)|Bar/club incident - in or around establishment - Count: 2\n",
      "Incident: Officer Involved Incident|Animal shot/killed - Count: 4\n",
      "Incident: Shot - Dead (murder, accidental, suicide)|Possession (gun(s) found during commission of other crimes) - Count: 2\n",
      "Incident: Accidental Shooting|Accidental Shooting - Death - Count: 5\n",
      "Incident: Shot - Wounded/Injured|Home Invasion - Count: 1\n",
      "Incident: Shot - Wounded/Injured|Gang involvement - Count: 14\n",
      "Incident: Shot - Wounded/Injured|Accidental Shooting|Accidental Shooting - Injury|Child Involved Incident|Child picked up & fired gun - Count: 3\n",
      "Incident: Shots Fired - No Injuries|Shots fired, no action (reported, no evidence found) - Count: 49\n",
      "Incident: Shot - Wounded/Injured|Accidental Shooting|Accidental Shooting - Injury - Count: 29\n",
      "Incident: Shot - Wounded/Injured|Home Invasion|Home Invasion - Resident injured - Count: 14\n",
      "Incident: Shot - Dead (murder, accidental, suicide)|Armed robbery with injury/death and/or evidence of DGU found|Possession (gun(s) found during commission of other crimes) - Count: 3\n",
      "Incident: Shot - Dead (murder, accidental, suicide)|Bar/club incident - in or around establishment - Count: 8\n",
      "Incident: Shot - Dead (murder, accidental, suicide)|Home Invasion|Home Invasion - subject/suspect/perpetrator killed|Defensive Use|Defensive Use - Victim stops crime|Defensive Use - Crime occurs, victim shoots subject/suspect/perpetrator|Defensive Use - Stand Your Ground/Castle Doctrine established - Count: 1\n",
      "Incident: Shot - Dead (murder, accidental, suicide)|Gang involvement|Brandishing/flourishing/open carry/lost/found - Count: 2\n",
      "Incident: Shot - Dead (murder, accidental, suicide)|Accidental Shooting|Accidental/Negligent Discharge|Child Involved Incident|Child killed by child|Brandishing/flourishing/open carry/lost/found - Count: 1\n",
      "Incident: Officer Involved Incident|Officer Involved Shooting - subject/suspect/perpetrator killed|Brandishing/flourishing/open carry/lost/found|Defensive Use - Count: 1\n",
      "Incident: Shot - Dead (murder, accidental, suicide)|Shootout (where VENN diagram of shooters and victims overlap)|ShotSpotter - Count: 1\n",
      "Incident: Shot - Wounded/Injured|Shots Fired - No Injuries|Bar/club incident - in or around establishment - Count: 1\n",
      "Incident: Shot - Dead (murder, accidental, suicide)|Officer Involved Incident|Officer Involved Shooting - subject/suspect/perpetrator killed|Brandishing/flourishing/open carry/lost/found - Count: 4\n",
      "Incident: Non-Shooting Incident|Officer Involved Incident|Guns stolen from law enforcement|Assault weapon (AR-15, AK-47, and ALL variants defined by law enforcement) - Count: 1\n",
      "Incident: Shot - Dead (murder, accidental, suicide)|Accidental Shooting|Accidental Shooting - Death|Brandishing/flourishing/open carry/lost/found - Count: 1\n",
      "Incident: Shot - Dead (murder, accidental, suicide)|Accidental Shooting|Accidental Shooting - Death - Count: 8\n",
      "Incident: Shot - Dead (murder, accidental, suicide)|Suicide^ - Count: 38\n",
      "Incident: Drug involvement|Possession (gun(s) found during commission of other crimes) - Count: 22\n",
      "Incident: Shot - Wounded/Injured|Officer Involved Incident|Officer Involved Shooting - Officer shot - Count: 1\n",
      "Incident: Shots Fired - No Injuries|Drive-by (car to street, car to car)|Brandishing/flourishing/open carry/lost/found - Count: 2\n",
      "Incident: Shot - Dead (murder, accidental, suicide)|Pistol-whipping - Count: 2\n",
      "Incident: Shot - Wounded/Injured|Officer Involved Incident|Officer Involved Shooting - subject/suspect/perpetrator shot|Brandishing/flourishing/open carry/lost/found - Count: 1\n",
      "Incident: Shots fired, no action (reported, no evidence found)|Defensive Use - Count: 1\n",
      "Incident: Shot - Wounded/Injured|Officer Involved Incident|Shots fired, no action (reported, no evidence found) - Count: 1\n",
      "Incident: Armed robbery with injury/death and/or evidence of DGU found|Implied Weapon - Count: 53\n",
      "Incident: Shots Fired - No Injuries|Armed robbery with injury/death and/or evidence of DGU found|Brandishing/flourishing/open carry/lost/found - Count: 1\n",
      "Incident: Armed robbery with injury/death and/or evidence of DGU found|Institution/Group/Business - Count: 9\n",
      "Incident: Shots fired, no action (reported, no evidence found)|Brandishing/flourishing/open carry/lost/found - Count: 20\n",
      "Incident: Shot - Wounded/Injured|Officer Involved Incident - Count: 3\n",
      "Incident: Officer Involved Incident|Officer Involved Shooting - Officer shot - Count: 3\n",
      "Incident: Shot - Wounded/Injured|Officer Involved Incident|Officer Involved Shooting - subject/suspect/perpetrator shot - Count: 26\n",
      "Incident: Shot - Wounded/Injured|Home Invasion|Home Invasion - subject/suspect/perpetrator injured|Officer Involved Incident|Officer Involved Shooting - subject/suspect/perpetrator shot - Count: 1\n",
      "Incident: Shot - Dead (murder, accidental, suicide)|Officer Involved Incident|Officer Involved Shooting - subject/suspect/perpetrator killed - Count: 45\n",
      "Incident: Shot - Wounded/Injured|Bar/club incident - in or around establishment - Count: 20\n",
      "Incident: Non-Shooting Incident|Armed robbery with injury/death and/or evidence of DGU found|Implied Weapon - Count: 2\n",
      "Incident: Shots Fired - No Injuries|Officer Involved Incident|Assault weapon (AR-15, AK-47, and ALL variants defined by law enforcement) - Count: 1\n",
      "Incident: Shot - Dead (murder, accidental, suicide)|Suicide^|Institution/Group/Business - Count: 1\n",
      "Incident: Shot - Wounded/Injured|Drive-by (car to street, car to car)|Gang involvement - Count: 3\n",
      "Incident: Shot - Wounded/Injured|Home Invasion|Home Invasion - subject/suspect/perpetrator injured|Officer Involved Incident|Officer Involved Shooting - subject/suspect/perpetrator shot|Officer Involved Shooting - subject/suspect/perpetrator unarmed|Armed robbery with injury/death and/or evidence of DGU found|Possession of gun by felon or prohibited person - Count: 1\n",
      "Incident: Armed robbery with injury/death and/or evidence of DGU found|Car-jacking - Count: 9\n",
      "Incident: Shot - Dead (murder, accidental, suicide)|Suicide^|Murder/Suicide - Count: 24\n",
      "Incident: Shot - Dead (murder, accidental, suicide)|Drive-by (car to street, car to car)|Possession (gun(s) found during commission of other crimes) - Count: 1\n",
      "Incident: Non-Shooting Incident|Possession of gun by felon or prohibited person|Brandishing/flourishing/open carry/lost/found - Count: 1\n",
      "Incident: Shot - Wounded/Injured|Drive-by (car to street, car to car)|Brandishing/flourishing/open carry/lost/found - Count: 6\n",
      "Incident: Home Invasion|Home Invasion - Resident injured|Brandishing/flourishing/open carry/lost/found|Gun(s) stolen from owner - Count: 1\n",
      "Incident: Shot - Dead (murder, accidental, suicide)|Domestic Violence - Count: 19\n",
      "Incident: Shot - Wounded/Injured|Accidental Shooting|Accidental Shooting - Injury|Accidental/Negligent Discharge|Child Involved Incident|Child picked up & fired gun - Count: 2\n",
      "Incident: Shots Fired - No Injuries|Road rage - Count: 3\n",
      "Incident: Shot - Wounded/Injured|Shot - Dead (murder, accidental, suicide)|Officer Involved Incident|Officer Involved Shooting - Officer shot|Officer Involved Shooting - Officer killed|Officer Involved Shooting - subject/suspect/perpetrator killed - Count: 1\n",
      "Incident: Home Invasion|Home Invasion - No death or injury|Brandishing/flourishing/open carry/lost/found - Count: 3\n",
      "Incident: Shot - Wounded/Injured|Officer Involved Incident|Officer Involved Shooting - subject/suspect/perpetrator shot|Armed robbery with injury/death and/or evidence of DGU found - Count: 3\n",
      "Incident: Drug involvement|ATF/LE Confiscation/Raid/Arrest|Possession (gun(s) found during commission of other crimes) - Count: 4\n",
      "Incident: Home Invasion|Armed robbery with injury/death and/or evidence of DGU found - Count: 5\n",
      "Incident: Drug involvement|Armed robbery with injury/death and/or evidence of DGU found - Count: 2\n",
      "Incident: Shot - Wounded/Injured|Shot - Dead (murder, accidental, suicide)|Gang involvement|Bar/club incident - in or around establishment - Count: 1\n",
      "Incident: Shot - Dead (murder, accidental, suicide)|Officer Involved Incident|Officer Involved Shooting - subject/suspect/perpetrator killed|Brandishing/flourishing/open carry/lost/found|Defensive Use - Count: 3\n",
      "Incident: Home Invasion|Home Invasion - No death or injury - Count: 25\n",
      "Incident: Home Invasion|Home Invasion - No death or injury|Armed robbery with injury/death and/or evidence of DGU found|Brandishing/flourishing/open carry/lost/found - Count: 3\n",
      "Incident: Shot - Wounded/Injured|Shot - Dead (murder, accidental, suicide)|Gun(s) stolen from owner|Defensive Use - Count: 1\n",
      "Incident: Armed robbery with injury/death and/or evidence of DGU found|Gun(s) stolen from owner - Count: 1\n",
      "Incident: Shots Fired - No Injuries|Officer Involved Incident|Armed robbery with injury/death and/or evidence of DGU found|Shots fired, no action (reported, no evidence found) - Count: 1\n",
      "Incident: Armed robbery with injury/death and/or evidence of DGU found|Defensive Use - Count: 6\n",
      "Incident: Shots Fired - No Injuries|Drive-by (car to street, car to car)|Shots fired, no action (reported, no evidence found) - Count: 2\n",
      "Incident: Armed robbery with injury/death and/or evidence of DGU found|Car-jacking|Possession (gun(s) found during commission of other crimes)|Brandishing/flourishing/open carry/lost/found - Count: 1\n",
      "Incident: Shot - Dead (murder, accidental, suicide)|Officer Involved Incident|Officer Involved Shooting - subject/suspect/perpetrator shot|Officer Involved Shooting - subject/suspect/perpetrator unarmed - Count: 1\n",
      "Incident: Shot - Wounded/Injured|Armed robbery with injury/death and/or evidence of DGU found - Count: 41\n",
      "Incident: Home Invasion|Home Invasion - Resident injured|Pistol-whipping - Count: 9\n",
      "Incident: Non-Shooting Incident|Non-Aggression Incident|ATF/LE Confiscation/Raid/Arrest|Possession (gun(s) found during commission of other crimes) - Count: 1\n",
      "Incident: Shots fired, no action (reported, no evidence found)|Possession (gun(s) found during commission of other crimes) - Count: 3\n",
      "Incident: Shots Fired - No Injuries|Home Invasion|Home Invasion - Resident injured|Pistol-whipping - Count: 1\n",
      "Incident: Shot - Wounded/Injured|Shots fired, no action (reported, no evidence found) - Count: 2\n",
      "Incident: Shot - Wounded/Injured|Home Invasion|Home Invasion - subject/suspect/perpetrator injured|Defensive Use|Defensive Use - Crime occurs, victim shoots subject/suspect/perpetrator|Drug involvement - Count: 1\n",
      "Incident: Shot - Wounded/Injured|Accidental Shooting|Accidental Shooting - Injury|Officer Involved Incident - Count: 1\n",
      "Incident: Armed robbery with injury/death and/or evidence of DGU found|Car-jacking|Brandishing/flourishing/open carry/lost/found - Count: 8\n",
      "Incident: Shot - Wounded/Injured|Accidental Shooting|Accidental/Negligent Discharge|Cleaning gun|Thought gun was unloaded|Brandishing/flourishing/open carry/lost/found - Count: 1\n",
      "Incident: ATF/LE Confiscation/Raid/Arrest|Possession (gun(s) found during commission of other crimes) - Count: 12\n",
      "Incident: Non-Shooting Incident|Home Invasion|Home Invasion - No death or injury|Possession of gun by felon or prohibited person|Gun(s) stolen from owner - Count: 1\n",
      "Incident: Officer Involved Incident|Officer Involved Shooting - subject/suspect/perpetrator killed - Count: 7\n",
      "Incident: Shot - Dead (murder, accidental, suicide)|Accidental Shooting|Accidental Shooting - Injury|Accidental/Negligent Discharge|Child Involved Incident|Child picked up & fired gun|Child killed self|Drug involvement - Count: 1\n",
      "Incident: Possession (gun(s) found during commission of other crimes)|Brandishing/flourishing/open carry/lost/found - Count: 14\n",
      "Incident: Shots Fired - No Injuries|Armed robbery with injury/death and/or evidence of DGU found|Defensive Use - Count: 1\n",
      "Incident: Officer Involved Incident|Officer Involved Shooting - subject/suspect/perpetrator killed|Domestic Violence|Brandishing/flourishing/open carry/lost/found - Count: 1\n",
      "Incident: Home Invasion|Home Invasion - No death or injury|Brandishing/flourishing/open carry/lost/found|Defensive Use - Count: 2\n",
      "Incident: Shot - Wounded/Injured|Shot - Dead (murder, accidental, suicide)|Drive-by (car to street, car to car) - Count: 6\n",
      "Incident: Car-jacking|Implied Weapon - Count: 1\n",
      "Incident: Shot - Wounded/Injured|Shot - Dead (murder, accidental, suicide)|Gang involvement - Count: 2\n",
      "Incident: Shots Fired - No Injuries|Officer Involved Incident|Domestic Violence - Count: 2\n",
      "Incident: Shot - Dead (murder, accidental, suicide)|Suicide^|Officer Involved Incident|Officer Involved Shooting - subject/suspect/perpetrator suicide at standoff|Armed robbery with injury/death and/or evidence of DGU found - Count: 1\n",
      "Incident: Shot - Dead (murder, accidental, suicide)|Accidental Shooting|Accidental Shooting - Death|Child Involved Incident|Child picked up & fired gun|Child killed self - Count: 1\n",
      "Incident: Home Invasion|Brandishing/flourishing/open carry/lost/found - Count: 1\n",
      "Incident: Armed robbery with injury/death and/or evidence of DGU found|Possession (gun(s) found during commission of other crimes) - Count: 6\n",
      "Incident: Officer Involved Incident|Domestic Violence - Count: 1\n",
      "Incident: Shot - Wounded/Injured|Gang involvement|Drug involvement|Officer Involved Incident|Officer Involved Shooting - Officer shot|Officer Involved Shooting - subject/suspect/perpetrator killed|ATF/LE Confiscation/Raid/Arrest|Possession (gun(s) found during commission of other crimes)|Brandishing/flourishing/open carry/lost/found - Count: 1\n",
      "Incident: Shots Fired - No Injuries|Possession (gun(s) found during commission of other crimes)|Brandishing/flourishing/open carry/lost/found - Count: 3\n",
      "Incident: Non-Shooting Incident|ATF/LE Confiscation/Raid/Arrest|Possession of gun by felon or prohibited person - Count: 1\n",
      "Incident: Shot - Wounded/Injured|Shot - Dead (murder, accidental, suicide)|Officer Involved Incident|Officer Involved Shooting - subject/suspect/perpetrator shot|Mass Shooting (4+ victims injured or killed excluding the subject/suspect/perpetrator, one location)|Domestic Violence|Car-jacking - Count: 1\n",
      "Incident: Non-Shooting Incident|ATF/LE Confiscation/Raid/Arrest|Possession (gun(s) found during commission of other crimes) - Count: 2\n",
      "Incident: Non-Shooting Incident|ATF/LE Confiscation/Raid/Arrest|Possession (gun(s) found during commission of other crimes)|Possession of gun by felon or prohibited person|Gun(s) stolen from owner|Stolen/Illegally owned gun{s} recovered during arrest/warrant - Count: 1\n",
      "Incident: Shot - Wounded/Injured|Shot - Dead (murder, accidental, suicide)|Murder/Suicide|Domestic Violence - Count: 1\n",
      "Incident: School Incident|Gun at school, no death/injury - elementary/secondary school - Count: 14\n",
      "Incident: Shot - Wounded/Injured|Defensive Use|Defensive Use - Crime occurs, victim shoots subject/suspect/perpetrator - Count: 1\n",
      "Incident: Non-Shooting Incident|ATF/LE Confiscation/Raid/Arrest - Count: 1\n",
      "Incident: Non-Shooting Incident|Sex crime involving firearm|Criminal act with stolen gun|Gun(s) stolen from owner|Stolen/Illegally owned gun{s} recovered during arrest/warrant - Count: 1\n",
      "Incident: Domestic Violence|Possession (gun(s) found during commission of other crimes) - Count: 2\n",
      "Incident: Shot - Wounded/Injured|Drug involvement|Armed robbery with injury/death and/or evidence of DGU found|Brandishing/flourishing/open carry/lost/found - Count: 2\n",
      "Incident: Officer Involved Incident|Officer Involved Shooting - subject/suspect/perpetrator shot - Count: 5\n",
      "Incident: Shot - Wounded/Injured|Home Invasion|Home Invasion - subject/suspect/perpetrator injured|Defensive Use - Count: 4\n",
      "Incident: Shots Fired - No Injuries|Officer Involved Incident - Count: 9\n",
      "Incident: Suicide - Attempt|Possession (gun(s) found during commission of other crimes) - Count: 1\n",
      "Incident: Institution/Group/Business|Non-Shooting Incident|Gun(s) stolen from owner - Count: 1\n",
      "Incident: Shot - Dead (murder, accidental, suicide)|Home Invasion|Home Invasion - subject/suspect/perpetrator killed|Defensive Use|Defensive Use - Crime occurs, victim shoots subject/suspect/perpetrator|Defensive Use - Stand Your Ground/Castle Doctrine established - Count: 1\n",
      "Incident: Non-Aggression Incident|TSA Action - Count: 1\n",
      "Incident: Institution/Group/Business|Non-Shooting Incident|Armed robbery with injury/death and/or evidence of DGU found - Count: 2\n",
      "Incident: Shot - Dead (murder, accidental, suicide)|Officer Involved Incident|Officer Involved Shooting - subject/suspect/perpetrator shot|Officer Involved Shooting - subject/suspect/perpetrator killed|Gang involvement|Brandishing/flourishing/open carry/lost/found - Count: 1\n",
      "Incident: Non-Shooting Incident|Home Invasion|Home Invasion - No death or injury|Gun(s) stolen from owner - Count: 1\n",
      "Incident: Non-Shooting Incident|Armed robbery with injury/death and/or evidence of DGU found - Count: 7\n",
      "Incident: Home Invasion|Home Invasion - No death or injury|Armed robbery with injury/death and/or evidence of DGU found|Possession (gun(s) found during commission of other crimes) - Count: 2\n",
      "Incident: Shot - Dead (murder, accidental, suicide)|Drug involvement|Kidnapping/abductions/hostage - Count: 1\n",
      "Incident: Shot - Dead (murder, accidental, suicide)|Suicide^|Domestic Violence - Count: 2\n",
      "Incident: Shot - Dead (murder, accidental, suicide)|Home Invasion|Home Invasion - subject/suspect/perpetrator killed - Count: 4\n",
      "Incident: Shot - Dead (murder, accidental, suicide)|Officer Involved Incident|Officer Involved Shooting - subject/suspect/perpetrator killed|Defensive Use - Count: 10\n",
      "Incident: Drug involvement|Officer Involved Incident|Officer Involved Shooting - subject/suspect/perpetrator shot|Defensive Use - Count: 1\n",
      "Incident: ATF/LE Confiscation/Raid/Arrest|Possession (gun(s) found during commission of other crimes)|Gun(s) stolen from owner - Count: 2\n",
      "Incident: Shots Fired - No Injuries|Armed robbery with injury/death and/or evidence of DGU found|Car-jacking|Brandishing/flourishing/open carry/lost/found - Count: 1\n",
      "Incident: Shots Fired - No Injuries|Home Invasion|Home Invasion - No death or injury|Armed robbery with injury/death and/or evidence of DGU found - Count: 1\n",
      "Incident: Possession (gun(s) found during commission of other crimes)|Gun(s) stolen from owner - Count: 4\n",
      "Incident: Officer Involved Incident|Officer Involved Incident - Weapon involved but no shots fired|Domestic Violence|Pistol-whipping - Count: 1\n",
      "Incident: Shots Fired - No Injuries|Accidental Shooting|Accidental/Negligent Discharge|Shots fired, no action (reported, no evidence found) - Count: 1\n",
      "Incident: Drug involvement|Possession (gun(s) found during commission of other crimes)|Brandishing/flourishing/open carry/lost/found|Gun(s) stolen from owner - Count: 1\n",
      "Incident: Shot - Wounded/Injured|Shot - Dead (murder, accidental, suicide)|Suicide - Attempt - Count: 1\n",
      "Incident: Shot - Wounded/Injured|Possession (gun(s) found during commission of other crimes) - Count: 3\n",
      "Incident: Shot - Dead (murder, accidental, suicide)|Hate crime - Count: 1\n",
      "Incident: Shot - Wounded/Injured|Accidental Shooting|Accidental Shooting - Injury|Accidental/Negligent Discharge|Child Involved Incident|Child picked up & fired gun|Child injured self - Count: 1\n",
      "Incident: Shot - Dead (murder, accidental, suicide)|Suicide^|Murder/Suicide|Domestic Violence - Count: 8\n",
      "Incident: Non-Shooting Incident|Drug involvement|ATF/LE Confiscation/Raid/Arrest|Possession (gun(s) found during commission of other crimes)|Possession of gun by felon or prohibited person|Stolen/Illegally owned gun{s} recovered during arrest/warrant - Count: 1\n",
      "Incident: Shot - Dead (murder, accidental, suicide)|Accidental Shooting|Accidental Shooting - Death|Accidental/Negligent Discharge|Cleaning gun|Thought gun was unloaded|Officer Involved Incident - Count: 1\n",
      "Incident: Shot - Wounded/Injured|Home Invasion|Home Invasion - Resident injured|Home Invasion - subject/suspect/perpetrator injured - Count: 1\n",
      "Incident: Shot - Wounded/Injured|Possession (gun(s) found during commission of other crimes)|Brandishing/flourishing/open carry/lost/found - Count: 4\n",
      "Incident: Shot - Dead (murder, accidental, suicide)|Officer Involved Incident - Count: 2\n",
      "Incident: Shots Fired - No Injuries|Home Invasion|Defensive Use - Count: 1\n",
      "Incident: Brandishing/flourishing/open carry/lost/found|Gun(s) stolen from owner - Count: 1\n",
      "Incident: Drive-by (car to street, car to car)|Shots fired, no action (reported, no evidence found) - Count: 2\n",
      "Incident: Shot - Wounded/Injured|Home Invasion|Home Invasion - Resident injured|Brandishing/flourishing/open carry/lost/found - Count: 2\n",
      "Incident: Accidental Shooting|Accidental Shooting - Injury - Count: 5\n",
      "Incident: Shot - Wounded/Injured|Shot - Dead (murder, accidental, suicide)|Suicide^|Officer Involved Incident|Officer Involved Shooting - subject/suspect/perpetrator suicide at standoff - Count: 1\n",
      "Incident: Shot - Wounded/Injured|Accidental Shooting|Accidental Shooting - Injury|Accidental/Negligent Discharge|Defensive Use - Count: 1\n",
      "Incident: Shot - Wounded/Injured|School Incident - Count: 1\n",
      "Incident: Shots Fired - No Injuries|Home Invasion|Home Invasion - No death or injury|Defensive Use - Count: 2\n",
      "Incident: Shot - Dead (murder, accidental, suicide)|Accidental Shooting|Thought gun was unloaded - Count: 1\n",
      "Incident: Shots Fired - No Injuries|Officer Involved Incident|Brandishing/flourishing/open carry/lost/found - Count: 3\n",
      "Incident: Shot - Wounded/Injured|Accidental Shooting|Accidental/Negligent Discharge - Count: 3\n",
      "Incident: Shot - Wounded/Injured|Shots Fired - No Injuries|Officer Involved Incident|Officer Involved Shooting - Officer shot - Count: 1\n",
      "Incident: Non-Shooting Incident|Drug involvement|Possession (gun(s) found during commission of other crimes) - Count: 1\n",
      "Incident: Shot - Wounded/Injured|Gang involvement|Car-jacking|Possession of gun by felon or prohibited person - Count: 1\n",
      "Incident: Shot - Wounded/Injured|Accidental Shooting|Accidental Shooting - Injury|Cleaning gun - Count: 3\n",
      "Incident: Shot - Dead (murder, accidental, suicide)|Officer Involved Incident|Officer Involved Shooting - subject/suspect/perpetrator killed|Domestic Violence - Count: 3\n",
      "Incident: Sex crime involving firearm|Brandishing/flourishing/open carry/lost/found - Count: 2\n",
      "Incident: Gang involvement|Shots fired, no action (reported, no evidence found)|Possession (gun(s) found during commission of other crimes) - Count: 1\n",
      "Incident: Shot - Dead (murder, accidental, suicide)|Drug involvement|Possession (gun(s) found during commission of other crimes) - Count: 1\n",
      "Incident: Shot - Wounded/Injured|Shot - Dead (murder, accidental, suicide)|Mass Shooting (4+ victims injured or killed excluding the subject/suspect/perpetrator, one location) - Count: 2\n",
      "Incident: Home Invasion|Home Invasion - No death or injury|Armed robbery with injury/death and/or evidence of DGU found - Count: 13\n",
      "Incident: Officer Involved Incident|Officer Involved Incident - Weapon involved but no shots fired|Possession (gun(s) found during commission of other crimes)|Brandishing/flourishing/open carry/lost/found|Road rage - Count: 1\n",
      "Incident: Domestic Violence|Shots fired, no action (reported, no evidence found) - Count: 1\n",
      "Incident: Shot - Wounded/Injured|Shots Fired - No Injuries - Count: 2\n",
      "Incident: Shot - Wounded/Injured|Officer Involved Incident|Officer Involved Shooting - subject/suspect/perpetrator shot|Domestic Violence - Count: 1\n",
      "Incident: Non-Shooting Incident|Armed robbery with injury/death and/or evidence of DGU found|Brandishing/flourishing/open carry/lost/found - Count: 2\n",
      "Incident: Shot - Wounded/Injured|Drug involvement - Count: 6\n",
      "Incident: Shot - Wounded/Injured|Shots Fired - No Injuries|Shot - Dead (murder, accidental, suicide)|Mass Shooting (4+ victims injured or killed excluding the subject/suspect/perpetrator, one location)|Bar/club incident - in or around establishment - Count: 1\n",
      "Incident: Shot - Wounded/Injured|Defensive Use - Count: 2\n",
      "Incident: Non-Shooting Incident|Brandishing/flourishing/open carry/lost/found - Count: 4\n",
      "Incident: Shots Fired - No Injuries|Shots fired, no action (reported, no evidence found)|Defensive Use - Count: 1\n",
      "Incident: Shots Fired - No Injuries|Bar/club incident - in or around establishment - Count: 2\n",
      "Incident: Shot - Wounded/Injured|Mass Shooting (4+ victims injured or killed excluding the subject/suspect/perpetrator, one location) - Count: 6\n",
      "Incident: Armed robbery with injury/death and/or evidence of DGU found|Pistol-whipping|Brandishing/flourishing/open carry/lost/found - Count: 3\n",
      "Incident: Shot - Wounded/Injured|Accidental Shooting|Accidental Shooting - Injury|Accidental/Negligent Discharge|Animal shot/killed - Count: 1\n",
      "Incident: Armed robbery with injury/death and/or evidence of DGU found|Possession (gun(s) found during commission of other crimes)|Institution/Group/Business - Count: 1\n",
      "Incident: Shots Fired - No Injuries|Gang involvement|Drive-by (car to street, car to car)|Officer Involved Incident|Shots fired, no action (reported, no evidence found)|Possession (gun(s) found during commission of other crimes) - Count: 1\n",
      "Incident: Shot - Wounded/Injured|Home Invasion|Home Invasion - Resident injured|Pistol-whipping - Count: 1\n",
      "Incident: Shots Fired - No Injuries|Drug involvement|Possession (gun(s) found during commission of other crimes)|Brandishing/flourishing/open carry/lost/found - Count: 1\n",
      "Incident: Officer Involved Incident|Officer Involved Shooting - subject/suspect/perpetrator killed|Domestic Violence - Count: 1\n",
      "Incident: Gang involvement|Shots fired, no action (reported, no evidence found)|Brandishing/flourishing/open carry/lost/found - Count: 1\n",
      "Incident: Shots fired, no action (reported, no evidence found)|Possession (gun(s) found during commission of other crimes)|Brandishing/flourishing/open carry/lost/found - Count: 8\n",
      "Incident: Shot - Wounded/Injured|Shot - Dead (murder, accidental, suicide)|Officer Involved Incident|Officer Involved Shooting - subject/suspect/perpetrator shot|Officer Involved Shooting - subject/suspect/perpetrator killed - Count: 1\n",
      "Incident: Shot - Dead (murder, accidental, suicide)|Home Invasion|Home Invasion - Resident killed|Armed robbery with injury/death and/or evidence of DGU found|Possession (gun(s) found during commission of other crimes)|Brandishing/flourishing/open carry/lost/found - Count: 1\n",
      "Incident: Shot - Dead (murder, accidental, suicide)|Accidental Shooting|Accidental Shooting - Death|Child Involved Incident|Child killed by child - Count: 1\n",
      "Incident: Shot - Dead (murder, accidental, suicide)|Possession of gun by felon or prohibited person - Count: 2\n",
      "Incident: Non-Shooting Incident|Armed robbery with injury/death and/or evidence of DGU found|Possession of gun by felon or prohibited person - Count: 1\n",
      "Incident: Shot - Dead (murder, accidental, suicide)|Home Invasion|Home Invasion - Resident killed|Possession (gun(s) found during commission of other crimes)|Possession of gun by felon or prohibited person - Count: 1\n",
      "Incident: Non-Shooting Incident|Officer Involved Incident|Armed robbery with injury/death and/or evidence of DGU found - Count: 1\n",
      "Incident: Non-Shooting Incident|Armed robbery with injury/death and/or evidence of DGU found|Car-jacking - Count: 2\n",
      "Incident: Shot - Wounded/Injured|Shot - Dead (murder, accidental, suicide)|Home Invasion|Home Invasion - Resident killed|Home Invasion - subject/suspect/perpetrator injured|Defensive Use - Count: 1\n",
      "Incident: Gang involvement|Brandishing/flourishing/open carry/lost/found - Count: 1\n",
      "Incident: Drug involvement|Shots fired, no action (reported, no evidence found)|Brandishing/flourishing/open carry/lost/found - Count: 1\n",
      "Incident: Shot - Dead (murder, accidental, suicide)|Drug involvement|Officer Involved Incident|Officer Involved Shooting - subject/suspect/perpetrator killed|Armed robbery with injury/death and/or evidence of DGU found - Count: 1\n",
      "Incident: Shot - Dead (murder, accidental, suicide)|Officer Involved Incident|Officer Involved Shooting - subject/suspect/perpetrator killed|Shots fired, no action (reported, no evidence found) - Count: 1\n",
      "Incident: Home Invasion|Home Invasion - No death or injury|Armed robbery with injury/death and/or evidence of DGU found|Car-jacking - Count: 1\n",
      "Incident: Shot - Dead (murder, accidental, suicide)|Accidental Shooting|Accidental Shooting - Death|Child Involved Incident|Child killed by child|Brandishing/flourishing/open carry/lost/found - Count: 1\n",
      "Incident: Pistol-whipping|Brandishing/flourishing/open carry/lost/found - Count: 1\n",
      "Incident: Shot - Wounded/Injured|Accidental Shooting|Accidental/Negligent Discharge|Brandishing/flourishing/open carry/lost/found - Count: 2\n",
      "Incident: Shots Fired - No Injuries|Domestic Violence - Count: 3\n",
      "Incident: Home Invasion|Home Invasion - No death or injury|Defensive Use - Count: 2\n",
      "Incident: Armed robbery with injury/death and/or evidence of DGU found|Possession (gun(s) found during commission of other crimes)|Brandishing/flourishing/open carry/lost/found - Count: 12\n",
      "Incident: Accidental Shooting|Accidental/Negligent Discharge|Child Involved Incident|Child picked up & fired gun|Shots fired, no action (reported, no evidence found) - Count: 1\n",
      "Incident: Shot - Dead (murder, accidental, suicide)|Accidental Shooting|Accidental Shooting - Death|Child Involved Incident|Child killed self - Count: 1\n",
      "Incident: Drug involvement|Brandishing/flourishing/open carry/lost/found - Count: 4\n",
      "Incident: Drug involvement|Shots fired, no action (reported, no evidence found)|Possession (gun(s) found during commission of other crimes)|Brandishing/flourishing/open carry/lost/found|Gun(s) stolen from owner - Count: 1\n",
      "Incident: Shot - Wounded/Injured|Shot - Dead (murder, accidental, suicide)|Drug involvement - Count: 7\n",
      "Incident: Shots Fired - No Injuries|Officer Involved Incident|Officer Involved Shooting - Shots fired, no injury|Officer Involved Shooting - subject/suspect/perpetrator surrender at standoff|Possession (gun(s) found during commission of other crimes) - Count: 1\n",
      "Incident: Shots Fired - No Injuries|Under the influence of alcohol or drugs (only applies to the subject/suspect/perpetrator ) - Count: 1\n",
      "Incident: Non-Shooting Incident|Drug involvement|ATF/LE Confiscation/Raid/Arrest|Possession (gun(s) found during commission of other crimes)|Possession of gun by felon or prohibited person|Unlawful purchase/sale|Stolen/Illegally owned gun{s} recovered during arrest/warrant - Count: 1\n",
      "Incident: Non-Shooting Incident|School Incident|Gun at school, no death/injury - elementary/secondary school|BB/Pellet/Replica gun - Count: 2\n",
      "Incident: Gang involvement|Drug involvement|Possession (gun(s) found during commission of other crimes)|Brandishing/flourishing/open carry/lost/found|Gun(s) stolen from owner - Count: 1\n",
      "Incident: Non-Shooting Incident|Drug involvement|Armed robbery with injury/death and/or evidence of DGU found|Kidnapping/abductions/hostage|Possession (gun(s) found during commission of other crimes)|Possession of gun by felon or prohibited person|Pistol-whipping - Count: 1\n",
      "Incident: Non-Shooting Incident|Home Invasion|Home Invasion - No death or injury - Count: 2\n",
      "Incident: Non-Shooting Incident|Non-Aggression Incident|School Incident|Gun at school, no death/injury - elementary/secondary school|ATF/LE Confiscation/Raid/Arrest - Count: 1\n",
      "Incident: Non-Shooting Incident|Possession (gun(s) found during commission of other crimes)|Possession of gun by felon or prohibited person - Count: 1\n",
      "Incident: Shot - Wounded/Injured|Shot - Dead (murder, accidental, suicide)|Officer Involved Incident|Officer Involved Incident - Weapon involved but no shots fired|Gang involvement|ATF/LE Confiscation/Raid/Arrest - Count: 1\n",
      "Incident: Officer Involved Incident|Officer Involved Shooting - Officer killed - Count: 1\n",
      "Incident: Shot - Wounded/Injured|Shot - Dead (murder, accidental, suicide)|Officer Involved Incident|Officer Involved Shooting - Officer shot|Officer Involved Shooting - subject/suspect/perpetrator killed - Count: 3\n",
      "Incident: Shot - Wounded/Injured|Suicide - Attempt - Count: 6\n",
      "Incident: Shot - Dead (murder, accidental, suicide)|Murder/Suicide - Count: 2\n",
      "Incident: Shot - Wounded/Injured|Shot - Dead (murder, accidental, suicide)|Suicide^|Home Invasion|Home Invasion - Resident injured|Home Invasion - subject/suspect/perpetrator killed|Domestic Violence - Count: 1\n",
      "Incident: Shot - Dead (murder, accidental, suicide)|Child Involved Incident|Child killed by child - Count: 1\n",
      "Incident: Domestic Violence|Kidnapping/abductions/hostage|Possession (gun(s) found during commission of other crimes)|Brandishing/flourishing/open carry/lost/found - Count: 1\n",
      "Incident: Shot - Dead (murder, accidental, suicide)|Defensive Use|Defensive Use - Crime occurs, victim shoots subject/suspect/perpetrator|Concealed Carry License - Victim - Count: 1\n",
      "Incident: Accidental Shooting|Accidental Shooting - Injury|Accidental/Negligent Discharge - Count: 1\n",
      "Incident: Shots Fired - No Injuries|Accidental Shooting|Cleaning gun|ATF/LE Confiscation/Raid/Arrest - Count: 1\n",
      "Incident: Shot - Wounded/Injured|Drug involvement|Possession (gun(s) found during commission of other crimes)|Brandishing/flourishing/open carry/lost/found - Count: 1\n",
      "Incident: Home Invasion|Armed robbery with injury/death and/or evidence of DGU found|Brandishing/flourishing/open carry/lost/found - Count: 2\n",
      "Incident: Shot - Dead (murder, accidental, suicide)|Officer Involved Incident|Officer Involved Shooting - Officer killed|Officer Involved Shooting - subject/suspect/perpetrator killed|Possession (gun(s) found during commission of other crimes)|Brandishing/flourishing/open carry/lost/found|Animal shot/killed|Defensive Use - Count: 1\n",
      "Incident: Shot - Wounded/Injured|Gun(s) stolen from owner - Count: 1\n",
      "Incident: Brandishing/flourishing/open carry/lost/found|Road rage - Count: 4\n",
      "Incident: Shot - Dead (murder, accidental, suicide)|Officer Involved Incident|Officer Involved Shooting - Officer shot|Officer Involved Shooting - subject/suspect/perpetrator killed - Count: 1\n",
      "Incident: Defensive Use|Animal shot/killed - Count: 1\n",
      "Incident: Non-Shooting Incident|Home Invasion|Home Invasion - No death or injury|Kidnapping/abductions/hostage|Possession of gun by felon or prohibited person - Count: 1\n",
      "Incident: Shot - Dead (murder, accidental, suicide)|Defensive Use - Count: 3\n",
      "Incident: Shot - Dead (murder, accidental, suicide)|Officer Involved Incident|Officer Involved Shooting - subject/suspect/perpetrator killed|Possession (gun(s) found during commission of other crimes) - Count: 2\n",
      "Incident: Institution/Group/Business|Non-Shooting Incident|Gun shop robbery or burglary - Count: 1\n",
      "Incident: Shot - Dead (murder, accidental, suicide)|Suicide^|Officer Involved Incident - Count: 1\n",
      "Incident: Implied Weapon|Brandishing/flourishing/open carry/lost/found - Count: 1\n",
      "Incident: Shot - Wounded/Injured|Brandishing/flourishing/open carry/lost/found|Road rage - Count: 2\n",
      "Incident: Shot - Dead (murder, accidental, suicide)|Accidental Shooting|Accidental Shooting - Death|Thought gun was unloaded - Count: 1\n",
      "Incident: Shots Fired - No Injuries|Armed robbery with injury/death and/or evidence of DGU found|Shots fired, no action (reported, no evidence found) - Count: 3\n",
      "Incident: Drug involvement|Home Invasion|Armed robbery with injury/death and/or evidence of DGU found|Brandishing/flourishing/open carry/lost/found - Count: 1\n",
      "Incident: Armed robbery with injury/death and/or evidence of DGU found|Shots fired, no action (reported, no evidence found) - Count: 2\n",
      "Incident: Shot - Wounded/Injured|Officer Involved Incident|Officer Involved Shooting - subject/suspect/perpetrator shot|Bar/club incident - in or around establishment - Count: 1\n",
      "Incident: Non-Shooting Incident|Gun(s) stolen from owner - Count: 1\n",
      "Incident: Shots Fired - No Injuries|Domestic Violence|Brandishing/flourishing/open carry/lost/found - Count: 2\n",
      "Incident: Officer Involved Incident|Armed robbery with injury/death and/or evidence of DGU found|Shots fired, no action (reported, no evidence found)|Possession (gun(s) found during commission of other crimes) - Count: 1\n",
      "Incident: Shot - Dead (murder, accidental, suicide)|Sex crime involving firearm|Brandishing/flourishing/open carry/lost/found|Defensive Use - Count: 1\n",
      "Incident: Gang involvement|Implied Weapon - Count: 1\n",
      "Incident: Drug involvement|Possession (gun(s) found during commission of other crimes)|Brandishing/flourishing/open carry/lost/found - Count: 4\n",
      "Incident: Officer Involved Incident|Officer Involved Shooting - subject/suspect/perpetrator killed|Brandishing/flourishing/open carry/lost/found - Count: 1\n",
      "Incident: Shot - Dead (murder, accidental, suicide)|Suicide - Attempt - Count: 1\n",
      "Incident: Non-Shooting Incident|ATF/LE Confiscation/Raid/Arrest|Possession (gun(s) found during commission of other crimes)|Possession of gun by felon or prohibited person - Count: 2\n",
      "Incident: Defensive Use|Drug involvement|Armed robbery with injury/death and/or evidence of DGU found|Implied Weapon - Count: 1\n",
      "Incident: Shot - Dead (murder, accidental, suicide)|Gun(s) stolen from owner - Count: 1\n",
      "Incident: Home Invasion|Home Invasion - subject/suspect/perpetrator killed|Home Invasion - subject/suspect/perpetrator injured|Defensive Use - Count: 1\n",
      "Incident: Shot - Dead (murder, accidental, suicide)|Domestic Violence|Possession (gun(s) found during commission of other crimes) - Count: 3\n",
      "Incident: Bar/club incident - in or around establishment|Possession (gun(s) found during commission of other crimes)|Animal shot/killed - Count: 1\n",
      "Incident: Shot - Dead (murder, accidental, suicide)|Gang involvement|Possession (gun(s) found during commission of other crimes) - Count: 1\n",
      "Incident: Home Invasion|Home Invasion - Resident injured|Armed robbery with injury/death and/or evidence of DGU found - Count: 2\n",
      "Incident: Bar/club incident - in or around establishment|Armed robbery with injury/death and/or evidence of DGU found - Count: 1\n",
      "Incident: Shot - Wounded/Injured|Suicide - Attempt|Domestic Violence - Count: 1\n",
      "Incident: Shot - Dead (murder, accidental, suicide)|Domestic Violence|Possession of gun by felon or prohibited person - Count: 1\n",
      "Incident: Shot - Wounded/Injured|Accidental Shooting|Accidental Shooting - Injury|Accidental/Negligent Discharge|Drug involvement|ATF/LE Confiscation/Raid/Arrest - Count: 1\n",
      "Incident: Home Invasion|Home Invasion - No death or injury|Armed robbery with injury/death and/or evidence of DGU found|Pistol-whipping - Count: 1\n",
      "Incident: Shot - Dead (murder, accidental, suicide)|Road rage - Count: 1\n",
      "Incident: Officer Involved Incident|Defensive Use - Count: 2\n",
      "Incident: Shot - Wounded/Injured|Home Invasion|Armed robbery with injury/death and/or evidence of DGU found - Count: 1\n",
      "Incident: Sex crime involving firearm|Possession (gun(s) found during commission of other crimes)|Brandishing/flourishing/open carry/lost/found - Count: 1\n",
      "Incident: Shots Fired - No Injuries|Accidental Shooting|Accidental/Negligent Discharge|Cleaning gun - Count: 3\n",
      "Incident: Shot - Wounded/Injured|Gang involvement|Possession (gun(s) found during commission of other crimes)|Brandishing/flourishing/open carry/lost/found - Count: 3\n",
      "Incident: Shots Fired - No Injuries|Bar/club incident - in or around establishment|Brandishing/flourishing/open carry/lost/found - Count: 1\n",
      "Incident: Shot - Wounded/Injured|Accidental Shooting|Accidental Shooting - Injury|Gun range/gun shop/gun show shooting - Count: 2\n",
      "Incident: Shot - Wounded/Injured|Officer Involved Incident|Officer Involved Shooting - subject/suspect/perpetrator shot|Car-jacking - Count: 1\n",
      "Incident: Shots Fired - No Injuries|Drive-by (car to street, car to car)|Possession of gun by felon or prohibited person - Count: 1\n",
      "Incident: Accidental Shooting|Accidental/Negligent Discharge - Count: 2\n",
      "Incident: Shots Fired - No Injuries|Home Invasion|Home Invasion - No death or injury|Shots fired, no action (reported, no evidence found) - Count: 1\n",
      "Incident: Shot - Wounded/Injured|Gang involvement|Drug involvement - Count: 1\n",
      "Incident: Shots Fired - No Injuries|Home Invasion|Home Invasion - Resident injured|Defensive Use - Count: 1\n",
      "Incident: Drug involvement|Possession (gun(s) found during commission of other crimes)|Gun(s) stolen from owner - Count: 4\n",
      "Incident: Shot - Wounded/Injured|Shot - Dead (murder, accidental, suicide)|Suicide^|Domestic Violence|Brandishing/flourishing/open carry/lost/found - Count: 2\n",
      "Incident: Shots Fired - No Injuries|Accidental Shooting|Accidental/Negligent Discharge - Count: 3\n",
      "Incident: Shot - Dead (murder, accidental, suicide)|Possession (gun(s) found during commission of other crimes)|Pistol-whipping|Brandishing/flourishing/open carry/lost/found - Count: 1\n",
      "Incident: Shot - Wounded/Injured|Gang involvement|Bar/club incident - in or around establishment - Count: 1\n",
      "Incident: Shot - Dead (murder, accidental, suicide)|Armed robbery with injury/death and/or evidence of DGU found|Defensive Use - Count: 2\n",
      "Incident: Shot - Dead (murder, accidental, suicide)|Home Invasion|Home Invasion - Resident killed - Count: 3\n",
      "Incident: Shot - Wounded/Injured|Shot - Dead (murder, accidental, suicide)|Bar/club incident - in or around establishment|Brandishing/flourishing/open carry/lost/found - Count: 1\n",
      "Incident: Non-Shooting Incident|Gun(s) stolen from owner|Stolen/Illegally owned gun{s} recovered during arrest/warrant - Count: 1\n",
      "Incident: Shot - Wounded/Injured|Shot - Dead (murder, accidental, suicide)|Mass Shooting (4+ victims injured or killed excluding the subject/suspect/perpetrator, one location)|Domestic Violence - Count: 1\n",
      "Incident: Shot - Wounded/Injured|Officer Involved Incident|Officer Involved Shooting - subject/suspect/perpetrator shot|Domestic Violence|Possession (gun(s) found during commission of other crimes)|Brandishing/flourishing/open carry/lost/found - Count: 1\n",
      "Incident: Shot - Wounded/Injured|Shot - Dead (murder, accidental, suicide)|Home Invasion|Home Invasion - Resident killed|Home Invasion - Resident injured - Count: 3\n",
      "Incident: Shot - Dead (murder, accidental, suicide)|Home Invasion|Home Invasion - Resident killed|Defensive Use - Count: 1\n",
      "Incident: School Incident|Gun at school, no death/injury - elementary/secondary school|Gun(s) stolen from owner - Count: 2\n",
      "Incident: Home Invasion|Armed robbery with injury/death and/or evidence of DGU found|Possession (gun(s) found during commission of other crimes)|Gun(s) stolen from owner - Count: 1\n",
      "Incident: Institution/Group/Business|Non-Shooting Incident|Armed robbery with injury/death and/or evidence of DGU found|Kidnapping/abductions/hostage|Possession (gun(s) found during commission of other crimes)|Brandishing/flourishing/open carry/lost/found - Count: 1\n",
      "Incident: Shot - Wounded/Injured|Officer Involved Incident|Officer Involved Shooting - subject/suspect/perpetrator shot|Officer Involved Shooting - subject/suspect/perpetrator unarmed - Count: 1\n",
      "Incident: Non-Shooting Incident|Home Invasion|Home Invasion - No death or injury|Brandishing/flourishing/open carry/lost/found - Count: 2\n",
      "Incident: Shot - Dead (murder, accidental, suicide)|Drug involvement|Armed robbery with injury/death and/or evidence of DGU found - Count: 1\n",
      "Incident: Shot - Wounded/Injured|Shot - Dead (murder, accidental, suicide)|Home Invasion|Home Invasion - Resident injured|Home Invasion - subject/suspect/perpetrator killed|Defensive Use - Count: 2\n",
      "Incident: Accidental Shooting|Accidental Shooting - Injury|Brandishing/flourishing/open carry/lost/found - Count: 1\n",
      "Incident: Officer Involved Incident|Officer Involved Shooting - subject/suspect/perpetrator killed|Armed robbery with injury/death and/or evidence of DGU found|Brandishing/flourishing/open carry/lost/found - Count: 1\n",
      "Incident: Shot - Wounded/Injured|Drug involvement|Home Invasion|Home Invasion - subject/suspect/perpetrator injured|Brandishing/flourishing/open carry/lost/found|Defensive Use - Count: 1\n",
      "Incident: Shot - Wounded/Injured|Accidental Shooting|Accidental Shooting - Death|Accidental Shooting - Injury|Child Involved Incident|Child picked up & fired gun - Count: 1\n",
      "Incident: Brandishing/flourishing/open carry/lost/found|Institution/Group/Business - Count: 4\n",
      "Incident: Accidental Shooting|Accidental Shooting - Injury|Cleaning gun - Count: 1\n",
      "Incident: Officer Involved Incident|Officer Involved Shooting - subject/suspect/perpetrator shot|Defensive Use - Count: 3\n",
      "Incident: Non-Shooting Incident|Possession (gun(s) found during commission of other crimes)|Gun(s) stolen from owner|Stolen/Illegally owned gun{s} recovered during arrest/warrant - Count: 1\n",
      "Incident: Home Invasion|Home Invasion - Resident injured|Armed robbery with injury/death and/or evidence of DGU found|Brandishing/flourishing/open carry/lost/found - Count: 1\n",
      "Incident: Shot - Dead (murder, accidental, suicide)|Drive-by (car to street, car to car)|Possession (gun(s) found during commission of other crimes)|Brandishing/flourishing/open carry/lost/found - Count: 1\n",
      "Incident: Shot - Dead (murder, accidental, suicide)|Criminal act with stolen gun|Brandishing/flourishing/open carry/lost/found|Gun(s) stolen from owner|Defensive Use - Count: 1\n",
      "Incident: Shots Fired - No Injuries|Home Invasion|Pistol-whipping|Defensive Use - Count: 1\n",
      "Incident: Officer Involved Incident|Officer Involved Shooting - subject/suspect/perpetrator shot|Domestic Violence - Count: 1\n",
      "Incident: Shots Fired - No Injuries|Home Invasion|Home Invasion - No death or injury - Count: 5\n",
      "Incident: Shot - Wounded/Injured|Drug involvement|Car-jacking - Count: 1\n",
      "Incident: Shots Fired - No Injuries|Armed robbery with injury/death and/or evidence of DGU found|Possession (gun(s) found during commission of other crimes)|Brandishing/flourishing/open carry/lost/found - Count: 2\n",
      "Incident: Shots Fired - No Injuries|Shot - Dead (murder, accidental, suicide)|Officer Involved Incident|Officer Involved Shooting - subject/suspect/perpetrator killed|Armed robbery with injury/death and/or evidence of DGU found|Car-jacking - Count: 1\n",
      "Incident: Shots Fired - No Injuries|Armed robbery with injury/death and/or evidence of DGU found|Pistol-whipping - Count: 3\n",
      "Incident: Armed robbery with injury/death and/or evidence of DGU found|Implied Weapon|Institution/Group/Business - Count: 3\n",
      "Incident: Armed robbery with injury/death and/or evidence of DGU found|Kidnapping/abductions/hostage|Car-jacking|Pistol-whipping - Count: 1\n",
      "Incident: Shot - Dead (murder, accidental, suicide)|Suicide^|Armed robbery with injury/death and/or evidence of DGU found - Count: 1\n",
      "Incident: Shot - Wounded/Injured|Shots Fired - No Injuries|Officer Involved Incident|Officer Involved Shooting - subject/suspect/perpetrator shot|Armed robbery with injury/death and/or evidence of DGU found - Count: 1\n",
      "Incident: Shots Fired - No Injuries|Home Invasion|Home Invasion - No death or injury|Brandishing/flourishing/open carry/lost/found|Defensive Use - Count: 1\n",
      "Incident: Shot - Wounded/Injured|Gang involvement|Brandishing/flourishing/open carry/lost/found - Count: 2\n",
      "Incident: Shot - Dead (murder, accidental, suicide)|Officer Involved Incident|Officer Involved Shooting - Officer killed - Count: 1\n",
      "Incident: Shot - Wounded/Injured|Accidental Shooting|Accidental/Negligent Discharge|Possession (gun(s) found during commission of other crimes)|Brandishing/flourishing/open carry/lost/found - Count: 1\n",
      "Incident: Shot - Dead (murder, accidental, suicide)|Domestic Violence|Animal shot/killed - Count: 1\n",
      "Incident: Shots Fired - No Injuries|Gang involvement|Home Invasion|Home Invasion - No death or injury|Possession (gun(s) found during commission of other crimes)|Gun(s) stolen from owner - Count: 1\n",
      "Incident: Shot - Wounded/Injured|Officer Involved Incident|Officer Involved Shooting - subject/suspect/perpetrator shot|Defensive Use - Count: 2\n",
      "Incident: Shot - Dead (murder, accidental, suicide)|Accidental Shooting|Accidental Shooting - Death|Thought gun was unloaded|Playing with gun - Count: 1\n",
      "Incident: Non-Shooting Incident|Possession (gun(s) found during commission of other crimes)|Gun(s) stolen from owner - Count: 1\n",
      "Incident: Shot - Wounded/Injured|Car-jacking - Count: 1\n",
      "Incident: Non-Shooting Incident|Drug involvement|Armed robbery with injury/death and/or evidence of DGU found - Count: 1\n",
      "Incident: School Incident|Gun at school, no death/injury - elementary/secondary school|Drug involvement - Count: 1\n",
      "Incident: Shot - Dead (murder, accidental, suicide)|Home Invasion|Home Invasion - Resident killed|Armed robbery with injury/death and/or evidence of DGU found|Under the influence of alcohol or drugs (only applies to the subject/suspect/perpetrator )|Gun(s) stolen from owner - Count: 1\n",
      "Incident: Shot - Wounded/Injured|Shot - Dead (murder, accidental, suicide)|Possession (gun(s) found during commission of other crimes)|Brandishing/flourishing/open carry/lost/found - Count: 1\n",
      "Incident: Shot - Dead (murder, accidental, suicide)|Suicide^|Murder/Suicide|Officer Involved Incident|Officer Involved Shooting - subject/suspect/perpetrator suicide at standoff|Domestic Violence - Count: 1\n",
      "Incident: Shots Fired - No Injuries|Home Invasion - Count: 1\n",
      "Incident: Shot - Wounded/Injured|Child Involved Incident|Child picked up & fired gun|Possession (gun(s) found during commission of other crimes)|Brandishing/flourishing/open carry/lost/found - Count: 1\n",
      "Incident: Shot - Wounded/Injured|Road rage - Count: 2\n",
      "Incident: Shots Fired - No Injuries|Gang involvement|Spree Shooting (multiple victims, multiple locations)|Possession (gun(s) found during commission of other crimes)|Brandishing/flourishing/open carry/lost/found - Count: 1\n",
      "Incident: Home Invasion|Home Invasion - No death or injury|Armed robbery with injury/death and/or evidence of DGU found|Possession (gun(s) found during commission of other crimes)|Brandishing/flourishing/open carry/lost/found - Count: 2\n",
      "Incident: Armed robbery with injury/death and/or evidence of DGU found|Possession (gun(s) found during commission of other crimes)|Brandishing/flourishing/open carry/lost/found|Gun(s) stolen from owner - Count: 1\n",
      "Incident: Accidental Shooting|Accidental Shooting - Injury|Drug involvement|Possession (gun(s) found during commission of other crimes) - Count: 1\n",
      "Incident: Shots Fired - No Injuries|Drug involvement|Animal shot/killed - Count: 1\n",
      "Incident: Shot - Wounded/Injured|Shot - Dead (murder, accidental, suicide)|Suicide^ - Count: 2\n",
      "Incident: Shot - Dead (murder, accidental, suicide)|Suicide^|Murder/Suicide|Officer Involved Incident|Officer Involved Shooting - subject/suspect/perpetrator suicide at standoff - Count: 1\n",
      "Incident: Shot - Wounded/Injured|Drug involvement|Officer Involved Incident|Officer Involved Shooting - subject/suspect/perpetrator shot - Count: 1\n",
      "Incident: Shots Fired - No Injuries|Officer Involved Incident|Gun(s) stolen from owner - Count: 1\n",
      "Incident: Shot - Dead (murder, accidental, suicide)|Accidental Shooting|Accidental Shooting - Death|Accidental/Negligent Discharge|Self-Inflicted (not suicide or suicide attempt - NO PERP)|Playing with gun|Under the influence of alcohol or drugs (only applies to the subject/suspect/perpetrator ) - Count: 1\n",
      "Incident: Shots Fired - No Injuries|Shots fired, no action (reported, no evidence found)|Possession of gun by felon or prohibited person|Brandishing/flourishing/open carry/lost/found - Count: 1\n",
      "Incident: Shot - Dead (murder, accidental, suicide)|Officer Involved Incident|Officer Involved Shooting - Officer shot|Officer Involved Shooting - subject/suspect/perpetrator killed|Animal shot/killed - Count: 1\n",
      "Incident: Non-Shooting Incident|Non-Aggression Incident|Drug involvement|Possession (gun(s) found during commission of other crimes) - Count: 1\n",
      "Incident: Shot - Wounded/Injured|Officer Involved Incident|Officer Involved Shooting - Officer shot|Officer Involved Shooting - subject/suspect/perpetrator shot|Under the influence of alcohol or drugs (only applies to the subject/suspect/perpetrator ) - Count: 1\n",
      "Incident: Shot - Wounded/Injured|Drug involvement|Possession (gun(s) found during commission of other crimes) - Count: 2\n",
      "Incident: Non-Shooting Incident|Home Invasion|Home Invasion - No death or injury|Armed robbery with injury/death and/or evidence of DGU found - Count: 2\n",
      "Incident: Drug involvement|Armed robbery with injury/death and/or evidence of DGU found|Brandishing/flourishing/open carry/lost/found - Count: 2\n",
      "Incident: Shot - Wounded/Injured|Accidental Shooting|Accidental Shooting - Injury|Cleaning gun|Drug involvement|ATF/LE Confiscation/Raid/Arrest - Count: 1\n",
      "Incident: Shot - Wounded/Injured|Accidental Shooting|Accidental Shooting - Injury|Drug involvement - Count: 1\n",
      "Incident: Officer Involved Incident|Officer Involved Shooting - subject/suspect/perpetrator killed|Defensive Use - Count: 1\n",
      "Incident: Armed robbery with injury/death and/or evidence of DGU found|Possession (gun(s) found during commission of other crimes)|Implied Weapon - Count: 1\n",
      "Incident: Brandishing/flourishing/open carry/lost/found|Animal shot/killed - Count: 1\n",
      "Incident: Shot - Dead (murder, accidental, suicide)|Suicide^|Officer Involved Incident|Officer Involved Shooting - subject/suspect/perpetrator suicide at standoff|Animal shot/killed - Count: 1\n",
      "Incident: Shot - Wounded/Injured|Mass Shooting (4+ victims injured or killed excluding the subject/suspect/perpetrator, one location)|Bar/club incident - in or around establishment - Count: 1\n",
      "Incident: Shots Fired - No Injuries|Brandishing/flourishing/open carry/lost/found|Road rage - Count: 1\n",
      "Incident: Shot - Wounded/Injured|Drive-by (car to street, car to car)|Gang involvement|Drug involvement|Under the influence of alcohol or drugs (only applies to the subject/suspect/perpetrator ) - Count: 1\n",
      "Incident: Shot - Wounded/Injured|Shot - Dead (murder, accidental, suicide)|Domestic Violence - Count: 1\n",
      "Incident: Animal shot/killed|Defensive Use - Count: 1\n",
      "Incident: Shot - Dead (murder, accidental, suicide)|Officer Involved Incident|Officer Involved Shooting - subject/suspect/perpetrator killed|Gun(s) stolen from owner - Count: 1\n",
      "Incident: Home Invasion|Home Invasion - No death or injury|Officer Involved Incident - Count: 1\n",
      "Incident: Shot - Dead (murder, accidental, suicide)|Officer Involved Incident|Officer Involved Shooting - subject/suspect/perpetrator killed|Car-jacking|Possession (gun(s) found during commission of other crimes)|Brandishing/flourishing/open carry/lost/found|Defensive Use - Count: 1\n",
      "Incident: Gang involvement|Drug involvement|ATF/LE Confiscation/Raid/Arrest|Possession (gun(s) found during commission of other crimes)|Brandishing/flourishing/open carry/lost/found - Count: 1\n",
      "Incident: Non-Shooting Incident|Drug involvement|Possession (gun(s) found during commission of other crimes)|Possession of gun by felon or prohibited person - Count: 2\n",
      "Incident: Shot - Wounded/Injured|Shot - Dead (murder, accidental, suicide)|Brandishing/flourishing/open carry/lost/found - Count: 5\n",
      "Incident: Shot - Dead (murder, accidental, suicide)|Suicide^|Murder/Suicide|Child Involved Incident|Child killed (not child shooter)|Domestic Violence - Count: 1\n",
      "Incident: Road rage|Brandishing/flourishing/open carry/lost/found - Count: 1\n",
      "Incident: Shot - Dead (murder, accidental, suicide)|Officer Involved Incident|Officer Involved Shooting - subject/suspect/perpetrator killed|Domestic Violence|Under the influence of alcohol or drugs (only applies to the subject/suspect/perpetrator ) - Count: 1\n",
      "Incident: Shot - Dead (murder, accidental, suicide)|Officer Involved Incident|Officer Involved Shooting - subject/suspect/perpetrator killed|Under the influence of alcohol or drugs (only applies to the subject/suspect/perpetrator )|Possession (gun(s) found during commission of other crimes)|Brandishing/flourishing/open carry/lost/found - Count: 1\n",
      "Incident: Shot - Dead (murder, accidental, suicide)|Suicide^|Murder/Suicide|Officer Involved Incident|Officer Involved Shooting - Officer killed - Count: 1\n",
      "Incident: Shot - Wounded/Injured|Institution/Group/Business|Officer Involved Incident|Officer Involved Shooting - subject/suspect/perpetrator shot|Armed robbery with injury/death and/or evidence of DGU found - Count: 1\n",
      "Incident: Shot - Wounded/Injured|Home Invasion|Home Invasion - Resident injured|Armed robbery with injury/death and/or evidence of DGU found - Count: 1\n",
      "Incident: Shot - Wounded/Injured|Shot - Dead (murder, accidental, suicide)|Possession of gun by felon or prohibited person - Count: 1\n",
      "Incident: Shot - Dead (murder, accidental, suicide)|Suicide^|Murder/Suicide|Domestic Violence|Brandishing/flourishing/open carry/lost/found - Count: 1\n",
      "Incident: Home Invasion|Home Invasion - No death or injury|Gun(s) stolen from owner - Count: 2\n",
      "Incident: Shot - Wounded/Injured|Gang involvement|Possession (gun(s) found during commission of other crimes)|Possession of gun by felon or prohibited person - Count: 1\n",
      "Incident: Shot - Dead (murder, accidental, suicide)|Domestic Violence|Kidnapping/abductions/hostage - Count: 1\n",
      "Incident: Accidental Shooting|Hunting accident - Count: 1\n",
      "Incident: Shot - Wounded/Injured|Home Invasion|Home Invasion - Resident killed|Home Invasion - subject/suspect/perpetrator injured|Defensive Use - Count: 1\n",
      "Incident: Shot - Dead (murder, accidental, suicide)|Drug involvement|Possession (gun(s) found during commission of other crimes)|Brandishing/flourishing/open carry/lost/found - Count: 1\n",
      "Incident: Shot - Wounded/Injured|Drive-by (car to street, car to car)|Gang involvement|Possession of gun by felon or prohibited person - Count: 1\n",
      "Incident: Shot - Wounded/Injured|Domestic Violence|Brandishing/flourishing/open carry/lost/found - Count: 3\n",
      "Incident: Shot - Dead (murder, accidental, suicide)|Bar/club incident - in or around establishment|Gang involvement|Drug involvement|Possession of gun by felon or prohibited person - Count: 1\n",
      "Incident: Shots Fired - No Injuries|Defensive Use|Defensive Use - Victim stops crime|Defensive Use - Shots fired, no injury/death|Domestic Violence - Count: 1\n",
      "Incident: Shots Fired - No Injuries|Possession (gun(s) found during commission of other crimes) - Count: 1\n",
      "Incident: Shot - Wounded/Injured|Drug involvement|Armed robbery with injury/death and/or evidence of DGU found - Count: 1\n",
      "Incident: Officer Involved Incident|Possession (gun(s) found during commission of other crimes)|Brandishing/flourishing/open carry/lost/found|Defensive Use - Count: 1\n",
      "Incident: Officer Involved Incident|Brandishing/flourishing/open carry/lost/found - Count: 1\n",
      "Incident: Shot - Wounded/Injured|Drive-by (car to street, car to car)|Armed robbery with injury/death and/or evidence of DGU found|Possession (gun(s) found during commission of other crimes)|Brandishing/flourishing/open carry/lost/found|Gun(s) stolen from owner - Count: 1\n",
      "Incident: Shots Fired - No Injuries|Shots fired, no action (reported, no evidence found)|Possession (gun(s) found during commission of other crimes) - Count: 2\n",
      "Incident: Drive-by (car to street, car to car)|Bar/club incident - in or around establishment|Shots fired, no action (reported, no evidence found) - Count: 1\n",
      "Incident: Shots Fired - No Injuries|Gang involvement|Possession (gun(s) found during commission of other crimes)|Brandishing/flourishing/open carry/lost/found - Count: 1\n",
      "Incident: Non-Shooting Incident|Domestic Violence|Brandishing/flourishing/open carry/lost/found - Count: 1\n",
      "Incident: Shot - Wounded/Injured|Domestic Violence|Defensive Use - Count: 1\n",
      "Incident: Shot - Dead (murder, accidental, suicide)|Domestic Violence|Brandishing/flourishing/open carry/lost/found - Count: 3\n",
      "Incident: Shot - Wounded/Injured|Home Invasion|Home Invasion - subject/suspect/perpetrator injured - Count: 3\n",
      "Incident: Officer Involved Incident|Armed robbery with injury/death and/or evidence of DGU found|Car-jacking|Possession (gun(s) found during commission of other crimes)|Brandishing/flourishing/open carry/lost/found - Count: 1\n",
      "Incident: Officer Involved Incident|Possession (gun(s) found during commission of other crimes) - Count: 1\n",
      "Incident: Home Invasion|Home Invasion - No death or injury|Armed robbery with injury/death and/or evidence of DGU found|Gun(s) stolen from owner - Count: 1\n",
      "Incident: Shot - Dead (murder, accidental, suicide)|Officer Involved Incident|Officer Involved Shooting - Officer killed|Officer Involved Shooting - subject/suspect/perpetrator killed|Gun(s) stolen from owner - Count: 1\n",
      "Incident: Home Invasion|Home Invasion - Resident injured|Armed robbery with injury/death and/or evidence of DGU found|Possession (gun(s) found during commission of other crimes)|Brandishing/flourishing/open carry/lost/found - Count: 1\n",
      "Incident: Shot - Wounded/Injured|Shot - Dead (murder, accidental, suicide)|Officer Involved Incident|Officer Involved Shooting - Officer shot|Domestic Violence - Count: 1\n",
      "Incident: Drug involvement|Home Invasion|Home Invasion - No death or injury|Armed robbery with injury/death and/or evidence of DGU found|Possession (gun(s) found during commission of other crimes) - Count: 1\n",
      "Incident: Shots Fired - No Injuries|Drug involvement|Home Invasion|Home Invasion - Resident injured|Shots fired, no action (reported, no evidence found)|Defensive Use - Count: 1\n",
      "Incident: Shot - Dead (murder, accidental, suicide)|Suicide^|Murder/Suicide|Home Invasion|Home Invasion - Resident killed|Spree Shooting (multiple victims, multiple locations) - Count: 1\n",
      "Incident: Home Invasion|Home Invasion - Resident injured - Count: 1\n",
      "Incident: School Incident|Gun at school, no death/injury - university/college - Count: 1\n",
      "Incident: Shot - Dead (murder, accidental, suicide)|Home Invasion|Home Invasion - subject/suspect/perpetrator killed|Armed robbery with injury/death and/or evidence of DGU found - Count: 1\n",
      "Incident: Non-Shooting Incident|Home Invasion|Home Invasion - Resident injured|Armed robbery with injury/death and/or evidence of DGU found|Pistol-whipping - Count: 1\n",
      "Incident: Armed robbery with injury/death and/or evidence of DGU found|Possession (gun(s) found during commission of other crimes)|Pistol-whipping - Count: 1\n",
      "Incident: Shot - Dead (murder, accidental, suicide)|Officer Involved Incident|Officer Involved Shooting - Officer shot|Officer Involved Shooting - subject/suspect/perpetrator killed|Defensive Use - Count: 1\n",
      "Incident: Gang involvement|Drug involvement|Possession (gun(s) found during commission of other crimes)|Brandishing/flourishing/open carry/lost/found - Count: 1\n",
      "Incident: Shot - Dead (murder, accidental, suicide)|Domestic Violence|Defensive Use - Count: 1\n",
      "Incident: Gang involvement|Gun(s) stolen from owner - Count: 1\n",
      "Incident: Home Invasion|Home Invasion - Resident injured|Armed robbery with injury/death and/or evidence of DGU found|Possession (gun(s) found during commission of other crimes)|Pistol-whipping|Brandishing/flourishing/open carry/lost/found - Count: 1\n",
      "Incident: Home Invasion|Home Invasion - subject/suspect/perpetrator killed|Armed robbery with injury/death and/or evidence of DGU found|Defensive Use - Count: 1\n",
      "Incident: Possession (gun(s) found during commission of other crimes)|Brandishing/flourishing/open carry/lost/found|Animal shot/killed - Count: 1\n",
      "Incident: Shot - Dead (murder, accidental, suicide)|Suicide^|Officer Involved Incident|Domestic Violence - Count: 1\n",
      "Incident: Domestic Violence|Possession (gun(s) found during commission of other crimes)|Brandishing/flourishing/open carry/lost/found - Count: 2\n",
      "Incident: Shots Fired - No Injuries|Officer Involved Incident|Shots fired, no action (reported, no evidence found) - Count: 1\n",
      "Incident: Shot - Wounded/Injured|Shot - Dead (murder, accidental, suicide)|Drive-by (car to street, car to car)|Brandishing/flourishing/open carry/lost/found - Count: 1\n",
      "Incident: Gang involvement|Shots fired, no action (reported, no evidence found) - Count: 1\n",
      "Incident: Shot - Dead (murder, accidental, suicide)|Domestic Violence|Possession (gun(s) found during commission of other crimes)|Brandishing/flourishing/open carry/lost/found - Count: 2\n",
      "Incident: Shot - Dead (murder, accidental, suicide)|Drug involvement|Officer Involved Incident|Officer Involved Shooting - subject/suspect/perpetrator killed|Possession (gun(s) found during commission of other crimes)|Defensive Use - Count: 1\n",
      "Incident: Drug involvement|Armed robbery with injury/death and/or evidence of DGU found|Possession (gun(s) found during commission of other crimes)|Brandishing/flourishing/open carry/lost/found - Count: 1\n",
      "Incident: Officer Involved Incident|Officer Involved Shooting - subject/suspect/perpetrator killed|Possession (gun(s) found during commission of other crimes)|Brandishing/flourishing/open carry/lost/found|Defensive Use - Count: 1\n",
      "Incident: Shots Fired - No Injuries|Home Invasion|Home Invasion - Resident killed|Home Invasion - Resident injured|Armed robbery with injury/death and/or evidence of DGU found|Possession (gun(s) found during commission of other crimes)|Pistol-whipping|Brandishing/flourishing/open carry/lost/found - Count: 1\n",
      "Incident: Shot - Dead (murder, accidental, suicide)|Officer Involved Incident|Officer Involved Shooting - subject/suspect/perpetrator killed|Armed robbery with injury/death and/or evidence of DGU found - Count: 1\n",
      "Incident: Shots Fired - No Injuries|Drug involvement|Possession (gun(s) found during commission of other crimes) - Count: 1\n",
      "Incident: Shot - Wounded/Injured|Accidental Shooting|Accidental Shooting - Injury|Hunting accident|Brandishing/flourishing/open carry/lost/found - Count: 1\n",
      "Incident: School Incident|Gun at school, no death/injury - university/college|Armed robbery with injury/death and/or evidence of DGU found - Count: 1\n",
      "Incident: Non-Aggression Incident|School Incident|Gun at school, no death/injury - elementary/secondary school|LOCKDOWN/ALERT ONLY: No GV Incident Occurred Onsite|Implied Weapon - Count: 1\n",
      "Incident: Accidental Shooting|Accidental Shooting - Death|Accidental/Negligent Discharge|Thought gun was unloaded - Count: 1\n",
      "Incident: Shot - Wounded/Injured|Home Invasion|Home Invasion - subject/suspect/perpetrator injured|Defensive Use|Defensive Use - Crime occurs, victim shoots subject/suspect/perpetrator|Defensive Use - Stand Your Ground/Castle Doctrine established - Count: 1\n",
      "Incident: Shot - Wounded/Injured|Accidental Shooting|Accidental Shooting - Injury|Accidental/Negligent Discharge|Gun range/gun shop/gun show shooting - Count: 1\n",
      "Incident: Shot - Wounded/Injured|Home Invasion|Home Invasion - Resident injured|Defensive Use - Count: 1\n",
      "Incident: Non-Shooting Incident|ATF/LE Confiscation/Raid/Arrest|Unlawful purchase/sale - Count: 1\n",
      "Incident: Shot - Wounded/Injured|Armed robbery with injury/death and/or evidence of DGU found|Car-jacking - Count: 2\n",
      "Incident: Shot - Wounded/Injured|Shot - Dead (murder, accidental, suicide)|Home Invasion|Home Invasion - Resident killed|Home Invasion - Resident injured|Armed robbery with injury/death and/or evidence of DGU found|Kidnapping/abductions/hostage - Count: 1\n",
      "Incident: Non-Shooting Incident|Officer Involved Incident|Officer Involved Incident - Weapon involved but no shots fired - Count: 1\n",
      "Incident: Accidental Shooting|Accidental Shooting - Death|Accidental/Negligent Discharge - Count: 1\n",
      "Incident: Institution/Group/Business|Non-Shooting Incident|Brandishing/flourishing/open carry/lost/found - Count: 1\n",
      "Incident: Shot - Dead (murder, accidental, suicide)|Armed robbery with injury/death and/or evidence of DGU found|Possession (gun(s) found during commission of other crimes)|Brandishing/flourishing/open carry/lost/found - Count: 1\n",
      "Incident: Drug involvement|Armed robbery with injury/death and/or evidence of DGU found|Car-jacking - Count: 1\n",
      "Incident: Officer Involved Incident|Officer Involved Shooting - subject/suspect/perpetrator shot|Possession (gun(s) found during commission of other crimes)|Brandishing/flourishing/open carry/lost/found - Count: 1\n",
      "Incident: Shot - Dead (murder, accidental, suicide)|Suicide^|Brandishing/flourishing/open carry/lost/found - Count: 1\n",
      "Incident: Shot - Wounded/Injured|Home Invasion|Home Invasion - Resident injured|Armed robbery with injury/death and/or evidence of DGU found|Possession (gun(s) found during commission of other crimes)|Brandishing/flourishing/open carry/lost/found - Count: 1\n",
      "Incident: Armed robbery with injury/death and/or evidence of DGU found|Brandishing/flourishing/open carry/lost/found|Gun(s) stolen from owner - Count: 1\n",
      "Incident: Shots Fired - No Injuries|Armed robbery with injury/death and/or evidence of DGU found|Possession (gun(s) found during commission of other crimes)|Brandishing/flourishing/open carry/lost/found|Defensive Use - Count: 1\n",
      "Incident: Shot - Wounded/Injured|Suicide^ - Count: 1\n",
      "Incident: Non-Shooting Incident|Drug involvement|ATF/LE Confiscation/Raid/Arrest|Possession (gun(s) found during commission of other crimes)|Possession of gun by felon or prohibited person - Count: 1\n",
      "Incident: Non-Aggression Incident|Possession (gun(s) found during commission of other crimes)|Unlawful purchase/sale|Gun(s) stolen from owner - Count: 1\n",
      "Incident: Non-Aggression Incident|Drug involvement|Possession (gun(s) found during commission of other crimes) - Count: 1\n",
      "Incident: Shot - Dead (murder, accidental, suicide)|Gang involvement|Drug involvement - Count: 1\n",
      "Incident: Shot - Wounded/Injured|Shot - Dead (murder, accidental, suicide)|Armed robbery with injury/death and/or evidence of DGU found - Count: 1\n",
      "Incident: Gang involvement|Car-jacking - Count: 1\n",
      "Incident: Sex crime involving firearm|Possession (gun(s) found during commission of other crimes) - Count: 1\n",
      "Incident: Shot - Wounded/Injured|Drug involvement|Officer Involved Incident|Animal shot/killed - Count: 1\n",
      "Incident: Shot - Dead (murder, accidental, suicide)|Officer Involved Incident|Officer Involved Shooting - subject/suspect/perpetrator killed|Domestic Violence|Defensive Use - Count: 1\n",
      "Incident: Gang involvement|Possession (gun(s) found during commission of other crimes) - Count: 1\n",
      "Incident: Shot - Wounded/Injured|Shots Fired - No Injuries|Officer Involved Incident|Officer Involved Shooting - subject/suspect/perpetrator shot - Count: 1\n",
      "Incident: Shots Fired - No Injuries|Gun(s) stolen from owner - Count: 1\n",
      "Incident: Shots Fired - No Injuries|Domestic Violence|Shots fired, no action (reported, no evidence found) - Count: 2\n",
      "Incident: Shot - Wounded/Injured|Bar/club incident - in or around establishment|Armed robbery with injury/death and/or evidence of DGU found - Count: 1\n",
      "Incident: Shots Fired - No Injuries|Shots fired, no action (reported, no evidence found)|Possession (gun(s) found during commission of other crimes)|Brandishing/flourishing/open carry/lost/found - Count: 1\n",
      "Incident: Implied Weapon|Institution/Group/Business - Count: 1\n",
      "Incident: Shot - Wounded/Injured|Officer Involved Incident|Officer Involved Shooting - subject/suspect/perpetrator shot|Possession (gun(s) found during commission of other crimes)|Brandishing/flourishing/open carry/lost/found - Count: 2\n",
      "Incident: Shot - Dead (murder, accidental, suicide)|Drug involvement|Home Invasion|Home Invasion - subject/suspect/perpetrator killed - Count: 1\n",
      "Incident: Shots Fired - No Injuries|Pistol-whipping - Count: 1\n",
      "Incident: Shot - Wounded/Injured|Shot - Dead (murder, accidental, suicide)|Suicide^|Domestic Violence - Count: 1\n",
      "Incident: Shot - Wounded/Injured|Home Invasion|Home Invasion - subject/suspect/perpetrator killed|Officer Involved Incident|Officer Involved Shooting - subject/suspect/perpetrator shot|Armed robbery with injury/death and/or evidence of DGU found|Possession (gun(s) found during commission of other crimes)|Brandishing/flourishing/open carry/lost/found - Count: 1\n",
      "Incident: Shot - Wounded/Injured|Home Invasion|Home Invasion - Resident injured|Home Invasion - subject/suspect/perpetrator injured|Pistol-whipping - Count: 1\n",
      "Incident: Shot - Wounded/Injured|Drug involvement|Gun(s) stolen from owner - Count: 1\n",
      "Incident: Shot - Dead (murder, accidental, suicide)|Sex crime involving firearm - Count: 1\n",
      "Incident: Non-Shooting Incident|Home Invasion|Home Invasion - No death or injury|Armed robbery with injury/death and/or evidence of DGU found|Possession (gun(s) found during commission of other crimes)|Brandishing/flourishing/open carry/lost/found|Gun(s) stolen from owner - Count: 1\n",
      "Incident: Institution/Group/Business|Non-Shooting Incident|Armed robbery with injury/death and/or evidence of DGU found|Kidnapping/abductions/hostage - Count: 1\n",
      "Incident: Shot - Wounded/Injured|Accidental Shooting|Accidental Shooting - Injury|Accidental/Negligent Discharge|Domestic Violence - Count: 1\n",
      "Incident: Officer Involved Incident|Officer Involved Shooting - Officer shot|Officer Involved Shooting - subject/suspect/perpetrator killed - Count: 1\n",
      "Incident: Accidental Shooting|Accidental/Negligent Discharge|Officer Involved Incident - Count: 1\n",
      "Incident: Shot - Dead (murder, accidental, suicide)|Accidental Shooting|Accidental/Negligent Discharge|Possession (gun(s) found during commission of other crimes)|Brandishing/flourishing/open carry/lost/found - Count: 1\n",
      "Incident: Shot - Wounded/Injured|Possession (gun(s) found during commission of other crimes)|Pistol-whipping|Brandishing/flourishing/open carry/lost/found - Count: 1\n",
      "Incident: Shot - Wounded/Injured|Accidental Shooting|Accidental Shooting - Injury|Gun(s) stolen from owner - Count: 1\n",
      "Incident: Shot - Dead (murder, accidental, suicide)|Bar/club incident - in or around establishment|Possession (gun(s) found during commission of other crimes) - Count: 1\n",
      "Incident: Shot - Dead (murder, accidental, suicide)|Home Invasion|Home Invasion - Resident killed|Armed robbery with injury/death and/or evidence of DGU found - Count: 1\n",
      "Incident: Shot - Wounded/Injured|Gang involvement|Drive-by (car to street, car to car)|Brandishing/flourishing/open carry/lost/found - Count: 1\n",
      "Incident: Car-jacking|Pistol-whipping - Count: 1\n",
      "Incident: Non-Shooting Incident|Officer Involved Incident|Officer Involved Shooting - Shots fired, no injury|Car-jacking|Possession (gun(s) found during commission of other crimes) - Count: 1\n",
      "Incident: Non-Shooting Incident|Home Invasion|Home Invasion - No death or injury|Drug involvement|BB/Pellet/Replica gun - Count: 1\n",
      "Incident: Shot - Dead (murder, accidental, suicide)|Suicide - Attempt|Domestic Violence|Brandishing/flourishing/open carry/lost/found - Count: 1\n",
      "Incident: Shot - Dead (murder, accidental, suicide)|Officer Involved Incident|Officer Involved Shooting - subject/suspect/perpetrator killed|Drug involvement|Possession (gun(s) found during commission of other crimes)|Brandishing/flourishing/open carry/lost/found - Count: 1\n",
      "Incident: Shot - Dead (murder, accidental, suicide)|Home Invasion|Home Invasion - subject/suspect/perpetrator killed|Defensive Use|Pistol-whipping - Count: 1\n",
      "Incident: Non-Shooting Incident|Drug involvement|Armed robbery with injury/death and/or evidence of DGU found|Possession (gun(s) found during commission of other crimes)|Brandishing/flourishing/open carry/lost/found - Count: 1\n",
      "Incident: Institution/Group/Business|Non-Shooting Incident|Armed robbery with injury/death and/or evidence of DGU found|BB/Pellet/Replica gun|Brandishing/flourishing/open carry/lost/found - Count: 1\n",
      "Incident: Institution/Group/Business|Shots Fired - No Injuries|Defensive Use|Defensive Use - Shots fired, no injury/death|Armed robbery with injury/death and/or evidence of DGU found - Count: 1\n",
      "Incident: Shots Fired - No Injuries|Car-jacking - Count: 1\n",
      "Incident: Home Invasion|Home Invasion - No death or injury|Pistol-whipping - Count: 1\n",
      "Incident: Shots Fired - No Injuries|Bar/club incident - in or around establishment|Shots fired, no action (reported, no evidence found) - Count: 1\n",
      "Incident: Shot - Wounded/Injured|Shots Fired - No Injuries|Home Invasion|Home Invasion - Resident killed|Home Invasion - Resident injured|Armed robbery with injury/death and/or evidence of DGU found - Count: 1\n",
      "Incident: Drug involvement|Officer Involved Incident|Possession (gun(s) found during commission of other crimes) - Count: 1\n",
      "Incident: Armed robbery with injury/death and/or evidence of DGU found|Brandishing/flourishing/open carry/lost/found|Defensive Use - Count: 1\n",
      "Incident: Shot - Wounded/Injured|Domestic Violence|Possession (gun(s) found during commission of other crimes) - Count: 1\n",
      "Incident: Shot - Dead (murder, accidental, suicide)|Possession (gun(s) found during commission of other crimes)|Brandishing/flourishing/open carry/lost/found - Count: 1\n",
      "Incident: Shot - Wounded/Injured|Shot - Dead (murder, accidental, suicide)|Suicide^|Murder/Suicide - Count: 1\n",
      "Incident: Shot - Wounded/Injured|Armed robbery with injury/death and/or evidence of DGU found|Brandishing/flourishing/open carry/lost/found|Institution/Group/Business - Count: 1\n",
      "Incident: Shot - Wounded/Injured|Gang involvement|Bar/club incident - in or around establishment|Possession (gun(s) found during commission of other crimes)|Brandishing/flourishing/open carry/lost/found - Count: 1\n",
      "Incident: Domestic Violence|Shots fired, no action (reported, no evidence found)|Possession (gun(s) found during commission of other crimes)|Brandishing/flourishing/open carry/lost/found - Count: 1\n",
      "Incident: Shot - Dead (murder, accidental, suicide)|Possession (gun(s) found during commission of other crimes)|Possession of gun by felon or prohibited person - Count: 1\n",
      "Incident: Shot - Dead (murder, accidental, suicide)|Home Invasion|Home Invasion - Resident killed|Armed robbery with injury/death and/or evidence of DGU found|Possession (gun(s) found during commission of other crimes)|Brandishing/flourishing/open carry/lost/found|Gun(s) stolen from owner - Count: 1\n",
      "Incident: Shot - Wounded/Injured|Home Invasion|Home Invasion - Resident injured|Home Invasion - subject/suspect/perpetrator injured|Defensive Use - Count: 1\n",
      "Incident: Accidental Shooting|Accidental/Negligent Discharge|Possession (gun(s) found during commission of other crimes) - Count: 1\n",
      "Incident: Officer Involved Incident|Car-jacking - Count: 2\n",
      "Incident: Institution/Group/Business|Non-Shooting Incident|Gun(s) stolen from owner|Stolen/Illegally owned gun{s} recovered during arrest/warrant - Count: 1\n",
      "Incident: Institution/Group/Business|Non-Shooting Incident|Armed robbery with injury/death and/or evidence of DGU found|Brandishing/flourishing/open carry/lost/found - Count: 1\n",
      "Incident: Shot - Dead (murder, accidental, suicide)|Officer Involved Incident|Officer Involved Shooting - Officer killed|Officer Involved Shooting - subject/suspect/perpetrator killed|Defensive Use|Defensive Use - WITHOUT a gun|Shootout (where VENN diagram of shooters and victims overlap)|Workplace shooting (disgruntled employee)|ATF/LE Confiscation/Raid/Arrest|Criminal act with stolen gun|Possession (gun(s) found during commission of other crimes)|Guns stolen from law enforcement - Count: 1\n",
      "Incident: Shots Fired - No Injuries|Non-Shooting Incident - Count: 1\n",
      "Incident: Non-Shooting Incident|School Incident|Gun at school, no death/injury - elementary/secondary school - Count: 1\n",
      "Incident: Shot - Dead (murder, accidental, suicide)|ATF/LE Confiscation/Raid/Arrest - Count: 1\n",
      "Incident: Shot - Wounded/Injured|Accidental Shooting|Accidental Shooting - Injury|Accidental/Negligent Discharge|Brandishing/flourishing/open carry/lost/found - Count: 1\n",
      "Incident: Shot - Dead (murder, accidental, suicide)|Officer Involved Incident|Officer Involved Shooting - Officer killed|Officer Involved Shooting - subject/suspect/perpetrator killed - Count: 1\n",
      "Incident: Defensive use - No shots fired - Count: 362\n",
      "Incident: Hate crime - Count: 97\n",
      "Incident: Officer Involved Shooting - Bystander shot - Count: 132\n",
      "Incident: Officer Involved Shooting - Bystander killed - Count: 30\n",
      "Incident: Shootout (where VENN diagram of shooters and victims overlap) - Count: 2035\n",
      "Incident: Child injured (not child shooter) - Count: 613\n",
      "Incident: Workplace shooting (disgruntled employee) - Count: 156\n",
      "Incident: Gun buy back action - Count: 129\n",
      "Incident: Terrorism Involvement - Count: 28\n",
      "Incident: Concealed Carry License - Perpetrator - Count: 522\n",
      "Incident: Officer Involved Shooting - Accidental discharge - no injury required - Count: 217\n",
      "Incident: Mistaken ID (thought it was an intruder/threat, was friend/family) - Count: 76\n",
      "Incident: Officer Involved Shooting - subject/suspect/perpetrator suicide by cop - Count: 136\n",
      "Incident: Guns stolen from law enforcement - Count: 208\n",
      "Incident: Ghost gun - Count: 60\n",
      "Incident: Political Violence - Count: 13\n",
      "Incident: NAV - Count: 1\n"
     ]
    }
   ],
   "source": [
    "# Initialize dictionary to hold the counts for all incidents\n",
    "total_incident_counts = {}\n",
    "\n",
    "# Iterate over each entry in the data\n",
    "for entry in df['incident_characteristics']:\n",
    "    individual_incident_counts = count_individual_incidents(entry)\n",
    "    # Update total counts with counts from current entry\n",
    "    for incident, count in individual_incident_counts.items():\n",
    "        if incident in total_incident_counts:\n",
    "            total_incident_counts[incident] += count\n",
    "        else:\n",
    "            total_incident_counts[incident] = count\n",
    "\n",
    "# Print total counts for each incident\n",
    "for incident, count in total_incident_counts.items():\n",
    "    print(\"Incident:\", incident, \"- Count:\", count)"
   ]
  },
  {
   "cell_type": "code",
   "execution_count": 45,
   "metadata": {},
   "outputs": [
    {
     "name": "stdout",
     "output_type": "stream",
     "text": [
      "Top 5 most common incidents:\n",
      "1. Shot - Wounded/Injured: 87975 occurrences\n",
      "2. Shot - Dead (murder, accidental, suicide): 49636 occurrences\n",
      "3. Non-Shooting Incident: 41309 occurrences\n",
      "4. Shots Fired - No Injuries: 32945 occurrences\n",
      "5. Possession (gun(s) found during commission of other crimes): 28831 occurrences\n"
     ]
    }
   ],
   "source": [
    "# Sort the total incident counts in descending order\n",
    "sorted_incident_counts = sorted(total_incident_counts.items(), key=lambda x: x[1], reverse=True)\n",
    "\n",
    "# Print the top 3 most common incidents\n",
    "print(\"Top 5 most common incidents:\")\n",
    "for i, (incident, count) in enumerate(sorted_incident_counts[:5], 1):\n",
    "    print(f\"{i}. {incident}: {count} occurrences\")\n"
   ]
  },
  {
   "cell_type": "code",
   "execution_count": null,
   "metadata": {},
   "outputs": [],
   "source": [
    "def count_individual_ages(age_str):\n",
    "    if isinstance(age_str, str):  # Check if the value is a non-null string\n",
    "        ages = age_str.split('||')\n",
    "        age_counts = {}\n",
    "        for age_entry in ages:\n",
    "            parts = age_entry.split(\"::\")\n",
    "            if len(parts) == 2:\n",
    "                index, age = parts\n",
    "                age = int(age)  # Convert age to integer\n",
    "                if age in age_counts:\n",
    "                    age_counts[age] += 1\n",
    "                else:\n",
    "                    age_counts[age] = 1\n",
    "        return age_counts\n",
    "    else:\n",
    "        return {}  # Return an empty dictionary if the value is NaN"
   ]
  },
  {
   "cell_type": "code",
   "execution_count": null,
   "metadata": {},
   "outputs": [],
   "source": [
    "# Initialize dictionary to hold the counts for all ages\n",
    "total_age_counts = {}\n",
    "\n",
    "# Iterate over each entry in the data\n",
    "for entry in df['participant_age']:\n",
    "    individual_age_counts = count_individual_ages(entry)\n",
    "    # Update total counts with counts from current entry\n",
    "    for age, count in individual_age_counts.items():\n",
    "        if age in total_age_counts:\n",
    "            total_age_counts[age] += count\n",
    "        else:\n",
    "            total_age_counts[age] = count\n",
    "\n",
    "# Print total counts for each age\n",
    "for age, count in total_age_counts.items():\n",
    "    print(\"Age:\", age, \"Count:\", count)"
   ]
  }
 ],
 "metadata": {
  "kernelspec": {
   "display_name": "venv",
   "language": "python",
   "name": "python3"
  },
  "language_info": {
   "codemirror_mode": {
    "name": "ipython",
    "version": 3
   },
   "file_extension": ".py",
   "mimetype": "text/x-python",
   "name": "python",
   "nbconvert_exporter": "python",
   "pygments_lexer": "ipython3",
   "version": "3.10.12"
  }
 },
 "nbformat": 4,
 "nbformat_minor": 2
}
